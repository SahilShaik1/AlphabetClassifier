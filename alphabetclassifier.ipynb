{
 "cells": [
  {
   "cell_type": "code",
   "execution_count": 1,
   "id": "8c63fe04",
   "metadata": {
    "_cell_guid": "b1076dfc-b9ad-4769-8c92-a6c4dae69d19",
    "_uuid": "8f2839f25d086af736a60e9eeb907d3b93b6e0e5",
    "execution": {
     "iopub.execute_input": "2023-06-19T18:18:24.423959Z",
     "iopub.status.busy": "2023-06-19T18:18:24.423416Z",
     "iopub.status.idle": "2023-06-19T18:18:24.439321Z",
     "shell.execute_reply": "2023-06-19T18:18:24.438137Z"
    },
    "papermill": {
     "duration": 0.026173,
     "end_time": "2023-06-19T18:18:24.441834",
     "exception": false,
     "start_time": "2023-06-19T18:18:24.415661",
     "status": "completed"
    },
    "tags": []
   },
   "outputs": [],
   "source": [
    "# This Python 3 environment comes with many helpful analytics libraries installed\n",
    "# It is defined by the kaggle/python Docker image: https://github.com/kaggle/docker-python\n",
    "# For example, here's several helpful packages to load\n",
    "\n",
    "import numpy as np # linear algebra\n",
    "import pandas as pd # data processing, CSV file I/O (e.g. pd.read_csv)\n",
    "from matplotlib import pyplot as plt\n",
    "# You can write up to 20GB to the current directory (/kaggle/working/) that gets preserved as output when you create a version using \"Save & Run All\" \n",
    "# You can also write temporary files to /kaggle/temp/, but they won't be saved outside of the current session"
   ]
  },
  {
   "cell_type": "code",
   "execution_count": 2,
   "id": "e73ff5ed",
   "metadata": {
    "execution": {
     "iopub.execute_input": "2023-06-19T18:18:24.454091Z",
     "iopub.status.busy": "2023-06-19T18:18:24.453680Z",
     "iopub.status.idle": "2023-06-19T18:19:07.188543Z",
     "shell.execute_reply": "2023-06-19T18:19:07.187288Z"
    },
    "papermill": {
     "duration": 42.744428,
     "end_time": "2023-06-19T18:19:07.191688",
     "exception": false,
     "start_time": "2023-06-19T18:18:24.447260",
     "status": "completed"
    },
    "tags": []
   },
   "outputs": [],
   "source": [
    "data = pd.read_csv('/kaggle/input/az-handwritten-alphabets-in-csv-format/A_Z Handwritten Data.csv')"
   ]
  },
  {
   "cell_type": "code",
   "execution_count": 3,
   "id": "d8a26305",
   "metadata": {
    "execution": {
     "iopub.execute_input": "2023-06-19T18:19:07.204181Z",
     "iopub.status.busy": "2023-06-19T18:19:07.203760Z",
     "iopub.status.idle": "2023-06-19T18:19:07.245138Z",
     "shell.execute_reply": "2023-06-19T18:19:07.244041Z"
    },
    "papermill": {
     "duration": 0.051117,
     "end_time": "2023-06-19T18:19:07.248298",
     "exception": false,
     "start_time": "2023-06-19T18:19:07.197181",
     "status": "completed"
    },
    "tags": []
   },
   "outputs": [
    {
     "data": {
      "text/html": [
       "<div>\n",
       "<style scoped>\n",
       "    .dataframe tbody tr th:only-of-type {\n",
       "        vertical-align: middle;\n",
       "    }\n",
       "\n",
       "    .dataframe tbody tr th {\n",
       "        vertical-align: top;\n",
       "    }\n",
       "\n",
       "    .dataframe thead th {\n",
       "        text-align: right;\n",
       "    }\n",
       "</style>\n",
       "<table border=\"1\" class=\"dataframe\">\n",
       "  <thead>\n",
       "    <tr style=\"text-align: right;\">\n",
       "      <th></th>\n",
       "      <th>0</th>\n",
       "      <th>0.1</th>\n",
       "      <th>0.2</th>\n",
       "      <th>0.3</th>\n",
       "      <th>0.4</th>\n",
       "      <th>0.5</th>\n",
       "      <th>0.6</th>\n",
       "      <th>0.7</th>\n",
       "      <th>0.8</th>\n",
       "      <th>0.9</th>\n",
       "      <th>...</th>\n",
       "      <th>0.639</th>\n",
       "      <th>0.640</th>\n",
       "      <th>0.641</th>\n",
       "      <th>0.642</th>\n",
       "      <th>0.643</th>\n",
       "      <th>0.644</th>\n",
       "      <th>0.645</th>\n",
       "      <th>0.646</th>\n",
       "      <th>0.647</th>\n",
       "      <th>0.648</th>\n",
       "    </tr>\n",
       "  </thead>\n",
       "  <tbody>\n",
       "    <tr>\n",
       "      <th>0</th>\n",
       "      <td>0</td>\n",
       "      <td>0</td>\n",
       "      <td>0</td>\n",
       "      <td>0</td>\n",
       "      <td>0</td>\n",
       "      <td>0</td>\n",
       "      <td>0</td>\n",
       "      <td>0</td>\n",
       "      <td>0</td>\n",
       "      <td>0</td>\n",
       "      <td>...</td>\n",
       "      <td>0</td>\n",
       "      <td>0</td>\n",
       "      <td>0</td>\n",
       "      <td>0</td>\n",
       "      <td>0</td>\n",
       "      <td>0</td>\n",
       "      <td>0</td>\n",
       "      <td>0</td>\n",
       "      <td>0</td>\n",
       "      <td>0</td>\n",
       "    </tr>\n",
       "    <tr>\n",
       "      <th>1</th>\n",
       "      <td>0</td>\n",
       "      <td>0</td>\n",
       "      <td>0</td>\n",
       "      <td>0</td>\n",
       "      <td>0</td>\n",
       "      <td>0</td>\n",
       "      <td>0</td>\n",
       "      <td>0</td>\n",
       "      <td>0</td>\n",
       "      <td>0</td>\n",
       "      <td>...</td>\n",
       "      <td>0</td>\n",
       "      <td>0</td>\n",
       "      <td>0</td>\n",
       "      <td>0</td>\n",
       "      <td>0</td>\n",
       "      <td>0</td>\n",
       "      <td>0</td>\n",
       "      <td>0</td>\n",
       "      <td>0</td>\n",
       "      <td>0</td>\n",
       "    </tr>\n",
       "    <tr>\n",
       "      <th>2</th>\n",
       "      <td>0</td>\n",
       "      <td>0</td>\n",
       "      <td>0</td>\n",
       "      <td>0</td>\n",
       "      <td>0</td>\n",
       "      <td>0</td>\n",
       "      <td>0</td>\n",
       "      <td>0</td>\n",
       "      <td>0</td>\n",
       "      <td>0</td>\n",
       "      <td>...</td>\n",
       "      <td>0</td>\n",
       "      <td>0</td>\n",
       "      <td>0</td>\n",
       "      <td>0</td>\n",
       "      <td>0</td>\n",
       "      <td>0</td>\n",
       "      <td>0</td>\n",
       "      <td>0</td>\n",
       "      <td>0</td>\n",
       "      <td>0</td>\n",
       "    </tr>\n",
       "    <tr>\n",
       "      <th>3</th>\n",
       "      <td>0</td>\n",
       "      <td>0</td>\n",
       "      <td>0</td>\n",
       "      <td>0</td>\n",
       "      <td>0</td>\n",
       "      <td>0</td>\n",
       "      <td>0</td>\n",
       "      <td>0</td>\n",
       "      <td>0</td>\n",
       "      <td>0</td>\n",
       "      <td>...</td>\n",
       "      <td>0</td>\n",
       "      <td>0</td>\n",
       "      <td>0</td>\n",
       "      <td>0</td>\n",
       "      <td>0</td>\n",
       "      <td>0</td>\n",
       "      <td>0</td>\n",
       "      <td>0</td>\n",
       "      <td>0</td>\n",
       "      <td>0</td>\n",
       "    </tr>\n",
       "    <tr>\n",
       "      <th>4</th>\n",
       "      <td>0</td>\n",
       "      <td>0</td>\n",
       "      <td>0</td>\n",
       "      <td>0</td>\n",
       "      <td>0</td>\n",
       "      <td>0</td>\n",
       "      <td>0</td>\n",
       "      <td>0</td>\n",
       "      <td>0</td>\n",
       "      <td>0</td>\n",
       "      <td>...</td>\n",
       "      <td>0</td>\n",
       "      <td>0</td>\n",
       "      <td>0</td>\n",
       "      <td>0</td>\n",
       "      <td>0</td>\n",
       "      <td>0</td>\n",
       "      <td>0</td>\n",
       "      <td>0</td>\n",
       "      <td>0</td>\n",
       "      <td>0</td>\n",
       "    </tr>\n",
       "  </tbody>\n",
       "</table>\n",
       "<p>5 rows × 785 columns</p>\n",
       "</div>"
      ],
      "text/plain": [
       "   0  0.1  0.2  0.3  0.4  0.5  0.6  0.7  0.8  0.9  ...  0.639  0.640  0.641  \\\n",
       "0  0    0    0    0    0    0    0    0    0    0  ...      0      0      0   \n",
       "1  0    0    0    0    0    0    0    0    0    0  ...      0      0      0   \n",
       "2  0    0    0    0    0    0    0    0    0    0  ...      0      0      0   \n",
       "3  0    0    0    0    0    0    0    0    0    0  ...      0      0      0   \n",
       "4  0    0    0    0    0    0    0    0    0    0  ...      0      0      0   \n",
       "\n",
       "   0.642  0.643  0.644  0.645  0.646  0.647  0.648  \n",
       "0      0      0      0      0      0      0      0  \n",
       "1      0      0      0      0      0      0      0  \n",
       "2      0      0      0      0      0      0      0  \n",
       "3      0      0      0      0      0      0      0  \n",
       "4      0      0      0      0      0      0      0  \n",
       "\n",
       "[5 rows x 785 columns]"
      ]
     },
     "execution_count": 3,
     "metadata": {},
     "output_type": "execute_result"
    }
   ],
   "source": [
    "data.head()"
   ]
  },
  {
   "cell_type": "code",
   "execution_count": 4,
   "id": "e5333baa",
   "metadata": {
    "execution": {
     "iopub.execute_input": "2023-06-19T18:19:07.261429Z",
     "iopub.status.busy": "2023-06-19T18:19:07.261049Z",
     "iopub.status.idle": "2023-06-19T18:19:08.139865Z",
     "shell.execute_reply": "2023-06-19T18:19:08.138808Z"
    },
    "papermill": {
     "duration": 0.888842,
     "end_time": "2023-06-19T18:19:08.142782",
     "exception": false,
     "start_time": "2023-06-19T18:19:07.253940",
     "status": "completed"
    },
    "tags": []
   },
   "outputs": [],
   "source": [
    "data = np.array(data)"
   ]
  },
  {
   "cell_type": "code",
   "execution_count": 5,
   "id": "25e21dba",
   "metadata": {
    "execution": {
     "iopub.execute_input": "2023-06-19T18:19:08.155930Z",
     "iopub.status.busy": "2023-06-19T18:19:08.155532Z",
     "iopub.status.idle": "2023-06-19T18:19:08.241208Z",
     "shell.execute_reply": "2023-06-19T18:19:08.239985Z"
    },
    "papermill": {
     "duration": 0.095073,
     "end_time": "2023-06-19T18:19:08.243707",
     "exception": false,
     "start_time": "2023-06-19T18:19:08.148634",
     "status": "completed"
    },
    "tags": []
   },
   "outputs": [
    {
     "name": "stdout",
     "output_type": "stream",
     "text": [
      "(372450, 785)\n",
      "0\n"
     ]
    }
   ],
   "source": [
    "m, n = data.shape\n",
    "print(data.shape)\n",
    "print(np.count_nonzero(np.isnan(data)))"
   ]
  },
  {
   "cell_type": "code",
   "execution_count": 6,
   "id": "4337334a",
   "metadata": {
    "execution": {
     "iopub.execute_input": "2023-06-19T18:19:08.256873Z",
     "iopub.status.busy": "2023-06-19T18:19:08.256493Z",
     "iopub.status.idle": "2023-06-19T18:19:14.449946Z",
     "shell.execute_reply": "2023-06-19T18:19:14.448933Z"
    },
    "papermill": {
     "duration": 6.203083,
     "end_time": "2023-06-19T18:19:14.452546",
     "exception": false,
     "start_time": "2023-06-19T18:19:08.249463",
     "status": "completed"
    },
    "tags": []
   },
   "outputs": [],
   "source": [
    "np.random.shuffle(data)\n",
    "#Seperate into training and testing once shuffled\n",
    "\n",
    "#leave 1000 for testing\n",
    "test_data = data[0:1000].T\n",
    "test_Y = test_data[0]\n",
    "test_X = test_data[1:n]\n",
    "test_X = test_X / 255\n",
    "\n",
    "#rest is for training\n",
    "train_data = data[1000:m].T\n",
    "train_Y = train_data[0]\n",
    "train_X = train_data[1:n]\n",
    "train_X = train_X / 255"
   ]
  },
  {
   "cell_type": "code",
   "execution_count": 7,
   "id": "9afa02cf",
   "metadata": {
    "execution": {
     "iopub.execute_input": "2023-06-19T18:19:14.467333Z",
     "iopub.status.busy": "2023-06-19T18:19:14.466906Z",
     "iopub.status.idle": "2023-06-19T18:19:14.472432Z",
     "shell.execute_reply": "2023-06-19T18:19:14.471387Z"
    },
    "papermill": {
     "duration": 0.016559,
     "end_time": "2023-06-19T18:19:14.474807",
     "exception": false,
     "start_time": "2023-06-19T18:19:14.458248",
     "status": "completed"
    },
    "tags": []
   },
   "outputs": [
    {
     "name": "stdout",
     "output_type": "stream",
     "text": [
      "(784, 371450)\n",
      "(371450,)\n"
     ]
    }
   ],
   "source": [
    "print(train_X.shape)\n",
    "print(train_Y.shape)"
   ]
  },
  {
   "cell_type": "code",
   "execution_count": 8,
   "id": "53ee950d",
   "metadata": {
    "execution": {
     "iopub.execute_input": "2023-06-19T18:19:14.487958Z",
     "iopub.status.busy": "2023-06-19T18:19:14.487567Z",
     "iopub.status.idle": "2023-06-19T18:19:14.505459Z",
     "shell.execute_reply": "2023-06-19T18:19:14.504260Z"
    },
    "papermill": {
     "duration": 0.027635,
     "end_time": "2023-06-19T18:19:14.508118",
     "exception": false,
     "start_time": "2023-06-19T18:19:14.480483",
     "status": "completed"
    },
    "tags": []
   },
   "outputs": [],
   "source": [
    "def init():\n",
    "    #X -> (784, 371450)\n",
    "    #Hidden Layer Depth of 20(trust), 26 output nodes\n",
    "    W1 = np.random.rand(20, 784) - 0.5\n",
    "    #X -> (20, 371450)\n",
    "    B1 = np.random.rand(20, 1) - 0.5\n",
    "    #X -> (20, 371450)\n",
    "    W2 = np.random.rand(26, 20) - 0.5\n",
    "    #X -> (26, 371450)\n",
    "    B2 = np.random.rand(26, 1) - 0.5\n",
    "    #X -> (26, 371450)\n",
    "    return W1, B1, W2, B2\n",
    "def softmax(X):\n",
    "    A = np.exp(X) / sum(np.exp(X))\n",
    "    return A\n",
    "def leaky_relu(X):\n",
    "    #leaky relu with alpha set as 0.01\n",
    "    return np.maximum(0.01 * X, X)\n",
    "def rev_relu(Z):\n",
    "    #derivative of leaky relu function\n",
    "    alpha = 0.01\n",
    "    return np.where(Z>0, 1, alpha)\n",
    "\n",
    "def forward(X, W1, B1, W2, B2):\n",
    "    Z1 = W1.dot(X) + B1\n",
    "    A1 = leaky_relu(Z1)\n",
    "    Z2 = W2.dot(A1) + B2\n",
    "    A2 = softmax(Z2)\n",
    "    return Z1, A1, Z2, A2\n",
    "\n",
    "def one_hot(Y):\n",
    "    one_hot_Y = np.zeros((Y.size, Y.max() + 1))\n",
    "    one_hot_Y[np.arange(Y.size), Y] = 1\n",
    "    one_hot_Y = one_hot_Y.T\n",
    "    return one_hot_Y\n",
    "\n",
    "def backward(X, Y, W1, B1, W2, B2, Z1, A1, Z2, A2, LR):\n",
    "    #Calculate derivatives\n",
    "    labels = one_hot(Y)\n",
    "    dz2 = A2 - labels\n",
    "    dw2 = (1 / m) * dz2.dot(A1.T)\n",
    "    db2 = (1 / m) * np.sum(dz2)\n",
    "    dz1 = W2.T.dot(dz2) * rev_relu(Z1)\n",
    "    dw1 = (1 / m) * dz1.dot(X.T)\n",
    "    db1 = (1 / m) * np.sum(dz1)\n",
    "    \n",
    "    #Update weights/biases\n",
    "    W1 = W1 - (LR * dw1)\n",
    "    B1 = B1 - (LR * db1)\n",
    "    W2 = W2 - (LR * dw2)\n",
    "    B2 = B2 - (LR * db2)\n",
    "    \n",
    "    #return new weights/biases\n",
    "    return W1, B1, W2, B2\n",
    "\n",
    "def learn(epochRate, X, Y, LR):\n",
    "    W1, B1, W2, B2 = init()\n",
    "    for i in range(epochRate):\n",
    "        Z1, A1, Z2, A2 = forward(X, W1, B1, W2, B2)\n",
    "        W1, B1, W2, B2 = backward(X, Y, W1, B1, W2, B2, Z1, A1, Z2, A2, LR)\n",
    "        if (i % (0.1 * epochRate) == 0):\n",
    "            print(f\"Epoch {i} Completed.\")\n",
    "    return W1, B1, W2, B2"
   ]
  },
  {
   "cell_type": "code",
   "execution_count": 9,
   "id": "6d61e6d3",
   "metadata": {
    "execution": {
     "iopub.execute_input": "2023-06-19T18:19:14.521905Z",
     "iopub.status.busy": "2023-06-19T18:19:14.521513Z",
     "iopub.status.idle": "2023-06-19T18:53:16.363300Z",
     "shell.execute_reply": "2023-06-19T18:53:16.361539Z"
    },
    "papermill": {
     "duration": 2041.854022,
     "end_time": "2023-06-19T18:53:16.368120",
     "exception": false,
     "start_time": "2023-06-19T18:19:14.514098",
     "status": "completed"
    },
    "tags": []
   },
   "outputs": [
    {
     "name": "stdout",
     "output_type": "stream",
     "text": [
      "Epoch 0 Completed.\n",
      "Epoch 100 Completed.\n",
      "Epoch 200 Completed.\n",
      "Epoch 300 Completed.\n",
      "Epoch 400 Completed.\n",
      "Epoch 500 Completed.\n",
      "Epoch 600 Completed.\n",
      "Epoch 700 Completed.\n",
      "Epoch 800 Completed.\n",
      "Epoch 900 Completed.\n"
     ]
    }
   ],
   "source": [
    "W1, B1, W2, B2 = learn(1000, train_X, train_Y, 1)"
   ]
  },
  {
   "cell_type": "code",
   "execution_count": 10,
   "id": "e767a610",
   "metadata": {
    "execution": {
     "iopub.execute_input": "2023-06-19T18:53:16.399079Z",
     "iopub.status.busy": "2023-06-19T18:53:16.398306Z",
     "iopub.status.idle": "2023-06-19T18:53:16.416490Z",
     "shell.execute_reply": "2023-06-19T18:53:16.415034Z"
    },
    "papermill": {
     "duration": 0.038825,
     "end_time": "2023-06-19T18:53:16.421202",
     "exception": false,
     "start_time": "2023-06-19T18:53:16.382377",
     "status": "completed"
    },
    "tags": []
   },
   "outputs": [],
   "source": [
    "#To show training\n",
    "def get_predictions(A2):\n",
    "    return np.argmax(A2, 0)\n",
    "\n",
    "def get_accuracy(predictions, Y):\n",
    "    #get accuracy\n",
    "    print(predictions, Y)\n",
    "    return np.sum(predictions == Y) / Y.size\n",
    "\n",
    "def make_predictions(X, W1, b1, W2, b2):\n",
    "    _, _, _, A2 = forward(X, W1, b1, W2, b2)\n",
    "    predictions = get_predictions(A2)\n",
    "    return predictions\n",
    "def test_prediction(index, W1, b1, W2, b2):\n",
    "    current_image = train_X[:, index, None]\n",
    "    prediction = make_predictions(train_X[:, index, None], W1, b1, W2, b2)\n",
    "    label = train_Y[index]\n",
    "    #Convert number to letter\n",
    "    p = chr(65 + prediction[0])\n",
    "    l = chr(65 + label)\n",
    "    print(\"Prediction: \", p)\n",
    "    print(\"Label: \", l)\n",
    "    \n",
    "    current_image = current_image.reshape((28, 28)) * 255\n",
    "    plt.gray()\n",
    "    plt.imshow(current_image, interpolation='nearest')\n",
    "    plt.show()"
   ]
  },
  {
   "cell_type": "code",
   "execution_count": 11,
   "id": "e31b5299",
   "metadata": {
    "execution": {
     "iopub.execute_input": "2023-06-19T18:53:16.451475Z",
     "iopub.status.busy": "2023-06-19T18:53:16.450802Z",
     "iopub.status.idle": "2023-06-19T18:53:16.768251Z",
     "shell.execute_reply": "2023-06-19T18:53:16.767015Z"
    },
    "papermill": {
     "duration": 0.335332,
     "end_time": "2023-06-19T18:53:16.770690",
     "exception": false,
     "start_time": "2023-06-19T18:53:16.435358",
     "status": "completed"
    },
    "tags": []
   },
   "outputs": [
    {
     "name": "stdout",
     "output_type": "stream",
     "text": [
      "Prediction:  O\n",
      "Label:  O\n"
     ]
    },
    {
     "data": {
      "image/png": "[encoded data removed]",
      "text/plain": [
       "<Figure size 640x480 with 1 Axes>"
      ]
     },
     "metadata": {},
     "output_type": "display_data"
    }
   ],
   "source": [
    "test_prediction(3, W1, B1, W2, B2)"
   ]
  },
  {
   "cell_type": "code",
   "execution_count": 12,
   "id": "38cef6ff",
   "metadata": {
    "execution": {
     "iopub.execute_input": "2023-06-19T18:53:16.786330Z",
     "iopub.status.busy": "2023-06-19T18:53:16.785883Z",
     "iopub.status.idle": "2023-06-19T18:53:16.820396Z",
     "shell.execute_reply": "2023-06-19T18:53:16.817268Z"
    },
    "papermill": {
     "duration": 0.046701,
     "end_time": "2023-06-19T18:53:16.824224",
     "exception": false,
     "start_time": "2023-06-19T18:53:16.777523",
     "status": "completed"
    },
    "tags": []
   },
   "outputs": [
    {
     "name": "stdout",
     "output_type": "stream",
     "text": [
      "[23 19 13 13 18 19 10 18 18 18  2 15 15 12 25 11 14  2 20 18  1 18 23 18\n",
      " 14 18 19 17 12 11  9 12 18  7 13 16  6  0 18  2 18 14  3 19 18 14  0  2\n",
      "  1 18 14  0 22 24 13 17  2 17 14 18  2 24 14 14  4 14 25 16  2 14 14 18\n",
      " 20 18 24 24 18  2  7  2 19 14  4 14  9 10  7 23 20 19 12 18  2 20 13 23\n",
      " 15 14 13 18 17 12 22 18 20 20  2 14 13 14 14 18 18 18 17 14  4 14 25 18\n",
      " 13  4 23 20 14 18 19 13  2 24 14 20 20  0  7  8 18 15  4 20  2 14 18  2\n",
      " 18  2 13 24  2 13 18 14 10  9 18 12  2 17 13 14  2  9  4  1 14 18 18 19\n",
      " 14 18  3 19  0  2 19  3 20  2  2  2 24 11  2  1 13  2 18 16 14 15 14 14\n",
      " 17 14 20  2 13 14  0 14 14 17 19 18 11 23 14 12  4 19 19 20 18 14 14 20\n",
      " 14 13 18 20 11  2 18 16  4 17 10 21 20 20 25  6 16 12 19 14 10 10  0 18\n",
      " 12 14 20 20 12 12 10  9 14 12 20 18 14 18  0  0 18 18 14 17 10 14 20  0\n",
      "  2 13 20  3 20 18 18 13 15 14 13  2 20 13 20  0 20 15  2 14 12 14 14 18\n",
      "  2 14  1 18 20 24 18 20 18 14  9 15 24 13 20 24 24 15 15  2 14 20  1  4\n",
      " 15 14 15 15  2 11 20 16 20 13  1 15 19 14 13 14 22 18  6 13 20 20 24 18\n",
      " 18 19  9  9 14  2  2  2 15  4  0 22 14  7  2 14 22 23  3 13 13  9 14 15\n",
      " 22 14 20 14 13 20 19 22 17 17 20 14  4 20  3 19 12 14  7 18 19 12 25 11\n",
      " 14 12 20 14 25 11 14 18 20 15 22 15 13 12  7 22 18 19 14 19 18 12  4 14\n",
      " 19 24 15  9 14 19 11 24 12 15 20 22 14 13 13 12 20 14 18  0  1  1 18 18\n",
      " 22 22 18 14  4 18  2 23 18  4 23 19 15 20 11 13 14  4 18 14  4 13 18 24\n",
      "  4 14  6 14 18 23  0 14 18 13  2 24 14 19  2 20 13 20 24  1  2 18 15  2\n",
      " 18  3 19 11 22 18 18 19 11  1 11 14 18  9 11 19 18 14  2 22 18  0 18 14\n",
      " 20  4 18 14 13 19  2 14 18 18 14 13 17 11 16 23 18 16  4 13 20 19  0 20\n",
      " 20 14 20  9 13 18 10 18 14 20 19  0 10 20  2 18 17 12 18 19 15 10 20 11\n",
      " 18 14 13 24 18 18 19 14 19  1 25 16 19 20  3 18 19 11 24  2 24 24 10 12\n",
      "  1 20 20 23 14 18 14 23 14 19  9  1 18 14 20 14 11 20 19 17 13 13 12  0\n",
      " 13 10  7  2 14 23 18 11  2 24 14  2  2  0  0 14 15  0 17 20 19 14  3 22\n",
      " 14 17 17 14 18  7 18  2 13 10 11  0 18 12 14  4 20 20 20 18 15 20 14 13\n",
      " 24 15  7  2  2  1 20 14 17 23 10 20  0 14  3 21 10 14 14 18  4 14 12  2\n",
      " 19 14 18 15 19 25 19 14 14 18 20 14 15 18 20 14 14  0 20 22 13 14 14 21\n",
      " 14 12 10 14 21  0 11 10 18 14 20 20  6 13 13 17  0  2 13 18 14  0 22 18\n",
      " 17 18 12 18 14  2 19  8  2 16 14 14 13  3 14 13 17  7 14 11  9 20  0 14\n",
      " 18 15  2  7 17 10  2 13 13 14 18 13  5 18 14 18 25 21  7 13 14  0 19 17\n",
      " 13 14 17  2 11 17 18 14 19 14 14  3 12 14 19 19 20 23 13 14 19  0 24 13\n",
      " 14 18  2 13  0 23 19 20 13 12 13 25 25 13  8  1 14 14 11 14  4  1 14  2\n",
      " 14 19 18 18  1  9  2 14 18 14 16 15  3 18 20 12 20 11  2 13  7  4  2 24\n",
      "  2 13 10 13 20  2 19  0 14 24 14 18 18 14 15 23 19 10 23 25 14 14 13 12\n",
      " 20 17 12 19 13 15 18 18 18 14 11 20 14  2 24 10 18 18  7 13 20 15 14 14\n",
      " 14 12  4 15 18 13 14 19  2 15 14 17 14 18  3  0 14 12  0  3 16 24 14 18\n",
      " 14  4 20  4 18 20 14 18  6 17 14  0 18 18  5 12 19 20 12  2 18  1 14 12\n",
      " 15  0 14 14 18 19 20  2 14 14 18 14  7 22 19  4 19 20 23 24 15 19 12 18\n",
      " 14 18 11  1 18 10 19 15 14 10 17 20 14 14 14 15 22 18 13 18 18 18 18 18\n",
      " 15 18 16 23  0 12 20 18 12 14 11 14 20 22 22 18] [23 19 25 13 18 19 10 18 18 18 15  0 15 12 25 11 14  2  7 18  1 18 23 18\n",
      " 14 18 19 17 12 11  9 12 18 21 13 16  6  0 18  2 18 14  3 19  9 14  0  2\n",
      "  1  9 14  7 22 24 22 17  2 17 14 18  4 24 20 14  4 14 25  0  2 14 14 18\n",
      " 22 18 24 24 18  2  7  2 19 14  4 18  9 10  7 23 20 19  7 18  2 20 22 23\n",
      " 15 14 13 18 17 12 22 18 20 16  2 14 13 14  6 18 18 18 17 14  4 14 25 18\n",
      " 13  4 23 20 14 18 19 13  2 24 14 20  9  0  7  8 18 15  4 20  2 20 18  4\n",
      " 18  2 13 15  2 13  4 14 10  9 18 12  2 17 13 14  2  9  4  1 14  1 18 19\n",
      " 14 18  3 19  0  2 19  3  7  2  2  2  9 11  2  1 13  2 18 16 14 15 14 14\n",
      " 10  2 20  2 13 14 17 14 14 17 19 18 11 23 14 17  4 19 19 20 18 14 14 20\n",
      " 14 12 18 20 11  2 18 16 17 17 17 21 20 14 17  6 16 12 19 18 10 23 17 18\n",
      " 12 14 20 20 12 12 10 18 14 12 20 18 14 18  0  0 18 18 14 17 10 14 23  0\n",
      "  2 13 20  3 20 18 18 12 15 13 20  2 20 20 20  0 20 15  2 14  0 14 14  2\n",
      "  2 14  1 18 20 24 18 20 18 14  9 15 24  7 20 24 24 15 15 18 14 22  1 13\n",
      " 15  3 15 15  2  2 20 22 20  4  1 15 19 14 13 14 22 18  6 13 20 20 24 18\n",
      " 18 19  9  9 14  2  2  2 15  1  0 22 14  7  2  3 22 10  3 11 13  9 14 15\n",
      " 11 18 20 14 13 20 19 22 17 17 20 14 23 20 14 19 13 14  7 18 19 18 25 11\n",
      " 14 12 20 14 25 11 18 18 20 15 22 25 13 13  7 22 18 19 14 19 18 12  4 14\n",
      " 19 24 15  9 14 19 11 15 12 15 21 22 14 13 13 13 20 14 18  0  1  1 18 18\n",
      " 22 13 18 14  4 18  2 23 18  4 23 15 15 20 11 13 14  4 18 14  4 13 18 24\n",
      " 17  3  6 14 18 23  0 14 18 13  2 15 14 19  2 20 13 20 24  1  2 18 15  2\n",
      "  6 15 19 11 22 18 18 19  2  1 11 14 18  9 20 19 18 14  2 22 18 17 18 14\n",
      " 20  4 18 14 13 19  2 14 18 18 14 13 17 11 16 23 18 16  4 13 20 19  0 20\n",
      " 20 14 16  9 13 18 10 18 14 20 19  0 10 20  2 18 17 14 18 19 15 10 20 11\n",
      " 18 14 13 24 18 18 19 14 19  1 25 16 19 22  3 18 19 11 24  2 16 24 10 12\n",
      "  6 20 20 23 14 18 14 23 14 19  9  1 18 14  2 14 11 20 19  1 13 17 12  0\n",
      " 13 17  7  2 14 23 18 11  2 24 18  2  2  0 10 14 15  0 17 20 19 14  3 22\n",
      "  3 17 17  3 18  7 18  6 21 10 11 17 18 12  3  4 20 20 20 24 15 20 14 13\n",
      "  4 16  7  2  4  1 20 14  4  3 10 20  0 14 14 21  7 14 16 18  4 14 12  2\n",
      " 19 14 18 15  5 17 19 14 14 16 20 14 15 18  2 14 14  0 20 22 22 14 14 21\n",
      " 14 12 10 14 21  0  2 10 18 14 20 20  6 13 13 17  0  2 17 18 14  0 22 18\n",
      " 17 18  0 18 14  2 19  8  2  6 14 14 13  3 14 13 17  7 14  1  9 20 12 14\n",
      " 18 15  2  1 17 10  2 13 13 14 18 13  5 18 14 18 25 21 13  7  3  0 19 17\n",
      " 13  2 17  2 11  4 18 14 19 14 14  3 12 14 19 19 20 23 13 14 19  0 24 13\n",
      " 14 18  2 13  0 23 19 20 13 12 13 25 25 13 25  1 14 14 11 14  4  1  3  2\n",
      " 14 19 18 18  1  9  2 14 18 14 16 15  3 18 20 12 20 11  2 13  7  4  2 24\n",
      "  2 13 10 13 20  2 19  0 14 24 14 14 18 14 15 23 19 20 23 25 14 14 13 12\n",
      "  4 17  1 19 13 15 18 18 18 14 11 20 14  2 12 10 18 18 20 13 20 15 14 14\n",
      " 14 12  4 15 18 13 14 19  2 15 14 17 14  6 25  0 13 12  0  3  0 24 14 18\n",
      " 14  4 20  4 18 20 14 18  6 17 14  0 18 23  5 12 19 20 13  2 18 25 14 12\n",
      " 15  0 14 20 18 19 20  2 14 14 18 14  7 22 24  4 19 20 17 24 15 19 12 18\n",
      " 14 18 11  1  1 10 19 15 14 11  0 14  4 14 14 17 22 18 13 18 18 18 18 18\n",
      " 15 18 16 17  0 12  9  6 12  3 11 14 20 22 22 18]\n"
     ]
    },
    {
     "data": {
      "text/plain": [
       "0.849"
      ]
     },
     "execution_count": 12,
     "metadata": {},
     "output_type": "execute_result"
    }
   ],
   "source": [
    "dev_predictions = make_predictions(test_X, W1, B1, W2, B2)\n",
    "get_accuracy(dev_predictions, test_Y)"
   ]
  },
  {
   "cell_type": "markdown",
   "id": "152daa7d",
   "metadata": {
    "papermill": {
     "duration": 0.014836,
     "end_time": "2023-06-19T18:53:16.854360",
     "exception": false,
     "start_time": "2023-06-19T18:53:16.839524",
     "status": "completed"
    },
    "tags": []
   },
   "source": [
    "About 87% accuracy on test data.\n"
   ]
  },
  {
   "cell_type": "markdown",
   "id": "61acc1ab",
   "metadata": {
    "papermill": {
     "duration": 0.012649,
     "end_time": "2023-06-19T18:53:16.882230",
     "exception": false,
     "start_time": "2023-06-19T18:53:16.869581",
     "status": "completed"
    },
    "tags": []
   },
   "source": [
    "Decent for a 2 layer Network. (1 hidden Layer, depth of 20)"
   ]
  }
 ],
 "metadata": {
  "kernelspec": {
   "display_name": "Python 3",
   "language": "python",
   "name": "python3"
  },
  "language_info": {
   "codemirror_mode": {
    "name": "ipython",
    "version": 3
   },
   "file_extension": ".py",
   "mimetype": "text/x-python",
   "name": "python",
   "nbconvert_exporter": "python",
   "pygments_lexer": "ipython3",
   "version": "3.10.10"
  },
  "papermill": {
   "default_parameters": {},
   "duration": 2108.2007,
   "end_time": "2023-06-19T18:53:18.239102",
   "environment_variables": {},
   "exception": null,
   "input_path": "__notebook__.ipynb",
   "output_path": "__notebook__.ipynb",
   "parameters": {},
   "start_time": "2023-06-19T18:18:10.038402",
   "version": "2.4.0"
  }
 },
 "nbformat": 4,
 "nbformat_minor": 5
}
