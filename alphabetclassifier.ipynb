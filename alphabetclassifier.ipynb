{
 "cells": [
  {
   "cell_type": "code",
   "execution_count": 1,
   "id": "9f9ffbf7",
   "metadata": {
    "_cell_guid": "b1076dfc-b9ad-4769-8c92-a6c4dae69d19",
    "_uuid": "8f2839f25d086af736a60e9eeb907d3b93b6e0e5",
    "execution": {
     "iopub.execute_input": "2023-06-18T20:30:52.416700Z",
     "iopub.status.busy": "2023-06-18T20:30:52.416290Z",
     "iopub.status.idle": "2023-06-18T20:30:52.429418Z",
     "shell.execute_reply": "2023-06-18T20:30:52.428224Z"
    },
    "papermill": {
     "duration": 0.024858,
     "end_time": "2023-06-18T20:30:52.432192",
     "exception": false,
     "start_time": "2023-06-18T20:30:52.407334",
     "status": "completed"
    },
    "tags": []
   },
   "outputs": [],
   "source": [
    "# This Python 3 environment comes with many helpful analytics libraries installed\n",
    "# It is defined by the kaggle/python Docker image: https://github.com/kaggle/docker-python\n",
    "# For example, here's several helpful packages to load\n",
    "\n",
    "import numpy as np # linear algebra\n",
    "import pandas as pd # data processing, CSV file I/O (e.g. pd.read_csv)\n",
    "from matplotlib import pyplot as plt\n",
    "# You can write up to 20GB to the current directory (/kaggle/working/) that gets preserved as output when you create a version using \"Save & Run All\" \n",
    "# You can also write temporary files to /kaggle/temp/, but they won't be saved outside of the current session"
   ]
  },
  {
   "cell_type": "code",
   "execution_count": 2,
   "id": "b7a43fc4",
   "metadata": {
    "execution": {
     "iopub.execute_input": "2023-06-18T20:30:52.444649Z",
     "iopub.status.busy": "2023-06-18T20:30:52.444265Z",
     "iopub.status.idle": "2023-06-18T20:31:34.922331Z",
     "shell.execute_reply": "2023-06-18T20:31:34.921090Z"
    },
    "papermill": {
     "duration": 42.487873,
     "end_time": "2023-06-18T20:31:34.925522",
     "exception": false,
     "start_time": "2023-06-18T20:30:52.437649",
     "status": "completed"
    },
    "tags": []
   },
   "outputs": [],
   "source": [
    "data = pd.read_csv('/kaggle/input/az-handwritten-alphabets-in-csv-format/A_Z Handwritten Data.csv')"
   ]
  },
  {
   "cell_type": "code",
   "execution_count": 3,
   "id": "f1a87149",
   "metadata": {
    "execution": {
     "iopub.execute_input": "2023-06-18T20:31:34.938493Z",
     "iopub.status.busy": "2023-06-18T20:31:34.938045Z",
     "iopub.status.idle": "2023-06-18T20:31:34.982376Z",
     "shell.execute_reply": "2023-06-18T20:31:34.981118Z"
    },
    "papermill": {
     "duration": 0.053999,
     "end_time": "2023-06-18T20:31:34.985130",
     "exception": false,
     "start_time": "2023-06-18T20:31:34.931131",
     "status": "completed"
    },
    "tags": []
   },
   "outputs": [
    {
     "data": {
      "text/html": [
       "<div>\n",
       "<style scoped>\n",
       "    .dataframe tbody tr th:only-of-type {\n",
       "        vertical-align: middle;\n",
       "    }\n",
       "\n",
       "    .dataframe tbody tr th {\n",
       "        vertical-align: top;\n",
       "    }\n",
       "\n",
       "    .dataframe thead th {\n",
       "        text-align: right;\n",
       "    }\n",
       "</style>\n",
       "<table border=\"1\" class=\"dataframe\">\n",
       "  <thead>\n",
       "    <tr style=\"text-align: right;\">\n",
       "      <th></th>\n",
       "      <th>0</th>\n",
       "      <th>0.1</th>\n",
       "      <th>0.2</th>\n",
       "      <th>0.3</th>\n",
       "      <th>0.4</th>\n",
       "      <th>0.5</th>\n",
       "      <th>0.6</th>\n",
       "      <th>0.7</th>\n",
       "      <th>0.8</th>\n",
       "      <th>0.9</th>\n",
       "      <th>...</th>\n",
       "      <th>0.639</th>\n",
       "      <th>0.640</th>\n",
       "      <th>0.641</th>\n",
       "      <th>0.642</th>\n",
       "      <th>0.643</th>\n",
       "      <th>0.644</th>\n",
       "      <th>0.645</th>\n",
       "      <th>0.646</th>\n",
       "      <th>0.647</th>\n",
       "      <th>0.648</th>\n",
       "    </tr>\n",
       "  </thead>\n",
       "  <tbody>\n",
       "    <tr>\n",
       "      <th>0</th>\n",
       "      <td>0</td>\n",
       "      <td>0</td>\n",
       "      <td>0</td>\n",
       "      <td>0</td>\n",
       "      <td>0</td>\n",
       "      <td>0</td>\n",
       "      <td>0</td>\n",
       "      <td>0</td>\n",
       "      <td>0</td>\n",
       "      <td>0</td>\n",
       "      <td>...</td>\n",
       "      <td>0</td>\n",
       "      <td>0</td>\n",
       "      <td>0</td>\n",
       "      <td>0</td>\n",
       "      <td>0</td>\n",
       "      <td>0</td>\n",
       "      <td>0</td>\n",
       "      <td>0</td>\n",
       "      <td>0</td>\n",
       "      <td>0</td>\n",
       "    </tr>\n",
       "    <tr>\n",
       "      <th>1</th>\n",
       "      <td>0</td>\n",
       "      <td>0</td>\n",
       "      <td>0</td>\n",
       "      <td>0</td>\n",
       "      <td>0</td>\n",
       "      <td>0</td>\n",
       "      <td>0</td>\n",
       "      <td>0</td>\n",
       "      <td>0</td>\n",
       "      <td>0</td>\n",
       "      <td>...</td>\n",
       "      <td>0</td>\n",
       "      <td>0</td>\n",
       "      <td>0</td>\n",
       "      <td>0</td>\n",
       "      <td>0</td>\n",
       "      <td>0</td>\n",
       "      <td>0</td>\n",
       "      <td>0</td>\n",
       "      <td>0</td>\n",
       "      <td>0</td>\n",
       "    </tr>\n",
       "    <tr>\n",
       "      <th>2</th>\n",
       "      <td>0</td>\n",
       "      <td>0</td>\n",
       "      <td>0</td>\n",
       "      <td>0</td>\n",
       "      <td>0</td>\n",
       "      <td>0</td>\n",
       "      <td>0</td>\n",
       "      <td>0</td>\n",
       "      <td>0</td>\n",
       "      <td>0</td>\n",
       "      <td>...</td>\n",
       "      <td>0</td>\n",
       "      <td>0</td>\n",
       "      <td>0</td>\n",
       "      <td>0</td>\n",
       "      <td>0</td>\n",
       "      <td>0</td>\n",
       "      <td>0</td>\n",
       "      <td>0</td>\n",
       "      <td>0</td>\n",
       "      <td>0</td>\n",
       "    </tr>\n",
       "    <tr>\n",
       "      <th>3</th>\n",
       "      <td>0</td>\n",
       "      <td>0</td>\n",
       "      <td>0</td>\n",
       "      <td>0</td>\n",
       "      <td>0</td>\n",
       "      <td>0</td>\n",
       "      <td>0</td>\n",
       "      <td>0</td>\n",
       "      <td>0</td>\n",
       "      <td>0</td>\n",
       "      <td>...</td>\n",
       "      <td>0</td>\n",
       "      <td>0</td>\n",
       "      <td>0</td>\n",
       "      <td>0</td>\n",
       "      <td>0</td>\n",
       "      <td>0</td>\n",
       "      <td>0</td>\n",
       "      <td>0</td>\n",
       "      <td>0</td>\n",
       "      <td>0</td>\n",
       "    </tr>\n",
       "    <tr>\n",
       "      <th>4</th>\n",
       "      <td>0</td>\n",
       "      <td>0</td>\n",
       "      <td>0</td>\n",
       "      <td>0</td>\n",
       "      <td>0</td>\n",
       "      <td>0</td>\n",
       "      <td>0</td>\n",
       "      <td>0</td>\n",
       "      <td>0</td>\n",
       "      <td>0</td>\n",
       "      <td>...</td>\n",
       "      <td>0</td>\n",
       "      <td>0</td>\n",
       "      <td>0</td>\n",
       "      <td>0</td>\n",
       "      <td>0</td>\n",
       "      <td>0</td>\n",
       "      <td>0</td>\n",
       "      <td>0</td>\n",
       "      <td>0</td>\n",
       "      <td>0</td>\n",
       "    </tr>\n",
       "  </tbody>\n",
       "</table>\n",
       "<p>5 rows × 785 columns</p>\n",
       "</div>"
      ],
      "text/plain": [
       "   0  0.1  0.2  0.3  0.4  0.5  0.6  0.7  0.8  0.9  ...  0.639  0.640  0.641  \\\n",
       "0  0    0    0    0    0    0    0    0    0    0  ...      0      0      0   \n",
       "1  0    0    0    0    0    0    0    0    0    0  ...      0      0      0   \n",
       "2  0    0    0    0    0    0    0    0    0    0  ...      0      0      0   \n",
       "3  0    0    0    0    0    0    0    0    0    0  ...      0      0      0   \n",
       "4  0    0    0    0    0    0    0    0    0    0  ...      0      0      0   \n",
       "\n",
       "   0.642  0.643  0.644  0.645  0.646  0.647  0.648  \n",
       "0      0      0      0      0      0      0      0  \n",
       "1      0      0      0      0      0      0      0  \n",
       "2      0      0      0      0      0      0      0  \n",
       "3      0      0      0      0      0      0      0  \n",
       "4      0      0      0      0      0      0      0  \n",
       "\n",
       "[5 rows x 785 columns]"
      ]
     },
     "execution_count": 3,
     "metadata": {},
     "output_type": "execute_result"
    }
   ],
   "source": [
    "data.head()"
   ]
  },
  {
   "cell_type": "code",
   "execution_count": 4,
   "id": "7c525141",
   "metadata": {
    "execution": {
     "iopub.execute_input": "2023-06-18T20:31:34.999409Z",
     "iopub.status.busy": "2023-06-18T20:31:34.998340Z",
     "iopub.status.idle": "2023-06-18T20:31:35.876226Z",
     "shell.execute_reply": "2023-06-18T20:31:35.875120Z"
    },
    "papermill": {
     "duration": 0.88807,
     "end_time": "2023-06-18T20:31:35.878952",
     "exception": false,
     "start_time": "2023-06-18T20:31:34.990882",
     "status": "completed"
    },
    "tags": []
   },
   "outputs": [],
   "source": [
    "data = np.array(data)"
   ]
  },
  {
   "cell_type": "code",
   "execution_count": 5,
   "id": "70d93cba",
   "metadata": {
    "execution": {
     "iopub.execute_input": "2023-06-18T20:31:35.892474Z",
     "iopub.status.busy": "2023-06-18T20:31:35.891730Z",
     "iopub.status.idle": "2023-06-18T20:31:35.982700Z",
     "shell.execute_reply": "2023-06-18T20:31:35.980989Z"
    },
    "papermill": {
     "duration": 0.100622,
     "end_time": "2023-06-18T20:31:35.985400",
     "exception": false,
     "start_time": "2023-06-18T20:31:35.884778",
     "status": "completed"
    },
    "tags": []
   },
   "outputs": [
    {
     "name": "stdout",
     "output_type": "stream",
     "text": [
      "(372450, 785)\n",
      "0\n"
     ]
    }
   ],
   "source": [
    "m, n = data.shape\n",
    "print(data.shape)\n",
    "print(np.count_nonzero(np.isnan(data)))"
   ]
  },
  {
   "cell_type": "code",
   "execution_count": 6,
   "id": "314ab9bb",
   "metadata": {
    "execution": {
     "iopub.execute_input": "2023-06-18T20:31:35.999502Z",
     "iopub.status.busy": "2023-06-18T20:31:35.999050Z",
     "iopub.status.idle": "2023-06-18T20:31:42.144489Z",
     "shell.execute_reply": "2023-06-18T20:31:42.143211Z"
    },
    "papermill": {
     "duration": 6.155627,
     "end_time": "2023-06-18T20:31:42.147318",
     "exception": false,
     "start_time": "2023-06-18T20:31:35.991691",
     "status": "completed"
    },
    "tags": []
   },
   "outputs": [],
   "source": [
    "np.random.shuffle(data)\n",
    "#Seperate into training and testing once shuffled\n",
    "\n",
    "#leave 1000 for testing\n",
    "test_data = data[0:1000].T\n",
    "test_Y = test_data[0]\n",
    "test_X = test_data[1:n]\n",
    "test_X = test_X / 255\n",
    "\n",
    "#rest is for training\n",
    "train_data = data[1000:m].T\n",
    "train_Y = train_data[0]\n",
    "train_X = train_data[1:n]\n",
    "train_X = train_X / 255"
   ]
  },
  {
   "cell_type": "code",
   "execution_count": 7,
   "id": "a728b48f",
   "metadata": {
    "execution": {
     "iopub.execute_input": "2023-06-18T20:31:42.162732Z",
     "iopub.status.busy": "2023-06-18T20:31:42.162340Z",
     "iopub.status.idle": "2023-06-18T20:31:42.168485Z",
     "shell.execute_reply": "2023-06-18T20:31:42.167210Z"
    },
    "papermill": {
     "duration": 0.017959,
     "end_time": "2023-06-18T20:31:42.171291",
     "exception": false,
     "start_time": "2023-06-18T20:31:42.153332",
     "status": "completed"
    },
    "tags": []
   },
   "outputs": [
    {
     "name": "stdout",
     "output_type": "stream",
     "text": [
      "(784, 371450)\n",
      "(371450,)\n"
     ]
    }
   ],
   "source": [
    "print(train_X.shape)\n",
    "print(train_Y.shape)"
   ]
  },
  {
   "cell_type": "code",
   "execution_count": 8,
   "id": "d8a5b969",
   "metadata": {
    "execution": {
     "iopub.execute_input": "2023-06-18T20:31:42.184843Z",
     "iopub.status.busy": "2023-06-18T20:31:42.184447Z",
     "iopub.status.idle": "2023-06-18T20:31:42.202179Z",
     "shell.execute_reply": "2023-06-18T20:31:42.201235Z"
    },
    "papermill": {
     "duration": 0.027422,
     "end_time": "2023-06-18T20:31:42.204536",
     "exception": false,
     "start_time": "2023-06-18T20:31:42.177114",
     "status": "completed"
    },
    "tags": []
   },
   "outputs": [],
   "source": [
    "def init():\n",
    "    #X -> (784, 371450)\n",
    "    #Hidden Layer Depth of 20(trust), 25 output nodes\n",
    "    W1 = np.random.rand(20, 784) - 0.5\n",
    "    #X -> (20, 371450)\n",
    "    B1 = np.random.rand(20, 1) - 0.5\n",
    "    #X -> (20, 371450)\n",
    "    W2 = np.random.rand(26, 20) - 0.5\n",
    "    #X -> (25, 371450)\n",
    "    B2 = np.random.rand(26, 1) - 0.5\n",
    "    #X -> (25, 371450)\n",
    "    return W1, B1, W2, B2\n",
    "def softmax(X):\n",
    "    A = np.exp(X) / sum(np.exp(X))\n",
    "    return A\n",
    "def leaky_relu(X):\n",
    "    #leaky relu with alpha set as 0.01\n",
    "    return np.maximum(0.01 * X, X)\n",
    "def rev_relu(Z):\n",
    "    #derivative of leaky relu function\n",
    "    alpha = 0.01\n",
    "    return np.where(Z>0, 1, alpha)\n",
    "\n",
    "def forward(X, W1, B1, W2, B2):\n",
    "    Z1 = W1.dot(X) + B1\n",
    "    A1 = leaky_relu(Z1)\n",
    "    Z2 = W2.dot(A1) + B2\n",
    "    A2 = softmax(Z2)\n",
    "    return Z1, A1, Z2, A2\n",
    "\n",
    "def one_hot(Y):\n",
    "    one_hot_Y = np.zeros((Y.size, Y.max() + 1))\n",
    "    one_hot_Y[np.arange(Y.size), Y] = 1\n",
    "    one_hot_Y = one_hot_Y.T\n",
    "    return one_hot_Y\n",
    "\n",
    "def backward(X, Y, W1, B1, W2, B2, Z1, A1, Z2, A2, LR):\n",
    "    #Calculate derivatives\n",
    "    labels = one_hot(Y)\n",
    "    dz2 = A2 - labels\n",
    "    dw2 = (1 / m) * dz2.dot(A1.T)\n",
    "    db2 = (1 / m) * np.sum(dz2)\n",
    "    dz1 = W2.T.dot(dz2) * rev_relu(Z1)\n",
    "    dw1 = (1 / m) * dz1.dot(X.T)\n",
    "    db1 = (1 / m) * np.sum(dz1)\n",
    "    \n",
    "    #Update weights/biases\n",
    "    W1 = W1 - (LR * dw1)\n",
    "    B1 = B1 - (LR * db1)\n",
    "    W2 = W2 - (LR * dw2)\n",
    "    B2 = B2 - (LR * db2)\n",
    "    \n",
    "    #return new weights/biases\n",
    "    return W1, B1, W2, B2\n",
    "\n",
    "def learn(epochRate, X, Y, LR):\n",
    "    W1, B1, W2, B2 = init()\n",
    "    for i in range(epochRate):\n",
    "        Z1, A1, Z2, A2 = forward(X, W1, B1, W2, B2)\n",
    "        W1, B1, W2, B2 = backward(X, Y, W1, B1, W2, B2, Z1, A1, Z2, A2, LR)\n",
    "        if (i % (0.1 * epochRate) == 0):\n",
    "            print(f\"Epoch {i} Completed.\")\n",
    "    return W1, B1, W2, B2"
   ]
  },
  {
   "cell_type": "code",
   "execution_count": 9,
   "id": "0069cc2f",
   "metadata": {
    "execution": {
     "iopub.execute_input": "2023-06-18T20:31:42.218906Z",
     "iopub.status.busy": "2023-06-18T20:31:42.217893Z",
     "iopub.status.idle": "2023-06-18T21:06:19.195856Z",
     "shell.execute_reply": "2023-06-18T21:06:19.194271Z"
    },
    "papermill": {
     "duration": 2076.989781,
     "end_time": "2023-06-18T21:06:19.200301",
     "exception": false,
     "start_time": "2023-06-18T20:31:42.210520",
     "status": "completed"
    },
    "tags": []
   },
   "outputs": [
    {
     "name": "stdout",
     "output_type": "stream",
     "text": [
      "Epoch 0 Completed.\n",
      "Epoch 100 Completed.\n",
      "Epoch 200 Completed.\n",
      "Epoch 300 Completed.\n",
      "Epoch 400 Completed.\n",
      "Epoch 500 Completed.\n",
      "Epoch 600 Completed.\n",
      "Epoch 700 Completed.\n",
      "Epoch 800 Completed.\n",
      "Epoch 900 Completed.\n"
     ]
    }
   ],
   "source": [
    "W1, B1, W2, B2 = learn(1000, train_X, train_Y, 1)"
   ]
  },
  {
   "cell_type": "code",
   "execution_count": 10,
   "id": "ccc07b82",
   "metadata": {
    "execution": {
     "iopub.execute_input": "2023-06-18T21:06:19.231246Z",
     "iopub.status.busy": "2023-06-18T21:06:19.230565Z",
     "iopub.status.idle": "2023-06-18T21:06:19.252050Z",
     "shell.execute_reply": "2023-06-18T21:06:19.250587Z"
    },
    "papermill": {
     "duration": 0.042259,
     "end_time": "2023-06-18T21:06:19.256960",
     "exception": false,
     "start_time": "2023-06-18T21:06:19.214701",
     "status": "completed"
    },
    "tags": []
   },
   "outputs": [],
   "source": [
    "#To show training\n",
    "def get_predictions(A2):\n",
    "    return np.argmax(A2, 0)\n",
    "\n",
    "def get_accuracy(predictions, Y):\n",
    "    #get accuracy\n",
    "    print(predictions, Y)\n",
    "    return np.sum(predictions == Y) / Y.size\n",
    "\n",
    "def make_predictions(X, W1, b1, W2, b2):\n",
    "    _, _, _, A2 = forward(X, W1, b1, W2, b2)\n",
    "    predictions = get_predictions(A2)\n",
    "    return predictions\n",
    "def test_prediction(index, W1, b1, W2, b2):\n",
    "    current_image = train_X[:, index, None]\n",
    "    prediction = make_predictions(train_X[:, index, None], W1, b1, W2, b2)\n",
    "    label = train_Y[index]\n",
    "    #Convert number to letter\n",
    "    p = chr(65 + prediction[0])\n",
    "    l = chr(65 + label)\n",
    "    print(\"Prediction: \", p)\n",
    "    print(\"Label: \", l)\n",
    "    \n",
    "    current_image = current_image.reshape((28, 28)) * 255\n",
    "    plt.gray()\n",
    "    plt.imshow(current_image, interpolation='nearest')\n",
    "    plt.show()"
   ]
  },
  {
   "cell_type": "code",
   "execution_count": 11,
   "id": "cb492f28",
   "metadata": {
    "execution": {
     "iopub.execute_input": "2023-06-18T21:06:19.287711Z",
     "iopub.status.busy": "2023-06-18T21:06:19.287046Z",
     "iopub.status.idle": "2023-06-18T21:06:19.575055Z",
     "shell.execute_reply": "2023-06-18T21:06:19.573774Z"
    },
    "papermill": {
     "duration": 0.305849,
     "end_time": "2023-06-18T21:06:19.577777",
     "exception": false,
     "start_time": "2023-06-18T21:06:19.271928",
     "status": "completed"
    },
    "tags": []
   },
   "outputs": [
    {
     "name": "stdout",
     "output_type": "stream",
     "text": [
      "Prediction:  A\n",
      "Label:  A\n"
     ]
    },
    {
     "data": {
      "image/png": "[encoded data removed]",
      "text/plain": [
       "<Figure size 640x480 with 1 Axes>"
      ]
     },
     "metadata": {},
     "output_type": "display_data"
    }
   ],
   "source": [
    "test_prediction(3, W1, B1, W2, B2)"
   ]
  },
  {
   "cell_type": "code",
   "execution_count": 12,
   "id": "df97f54d",
   "metadata": {
    "execution": {
     "iopub.execute_input": "2023-06-18T21:06:19.593846Z",
     "iopub.status.busy": "2023-06-18T21:06:19.593444Z",
     "iopub.status.idle": "2023-06-18T21:06:19.631030Z",
     "shell.execute_reply": "2023-06-18T21:06:19.627457Z"
    },
    "papermill": {
     "duration": 0.050443,
     "end_time": "2023-06-18T21:06:19.635353",
     "exception": false,
     "start_time": "2023-06-18T21:06:19.584910",
     "status": "completed"
    },
    "tags": []
   },
   "outputs": [
    {
     "name": "stdout",
     "output_type": "stream",
     "text": [
      "[14 20 20  6 18 15 18 17 14 12 17 24 16 14  4 14 15 10 18 19 17 24  3 14\n",
      " 12 14 18  3 25  3 11 15 14 14 20 13  4  2 14  9 24  1  2 18 14 14 12 11\n",
      " 24 14 18 20 24 14 18 14 20 15 13 20 19  2 11 12  1 10 19 19  1 17 19 23\n",
      " 15  2 11 20 24 15 12 14 20 16  4 18 14  1 23 12  2 19 14 20 20 18  9 20\n",
      "  0 15  3 15  2 18 14 13 18 16 14  7 16  4  2 15 14 19 14 14 17 14 12 20\n",
      " 24  1 18 19 13 12 10  1 16 17  3 20  7 25 22 14  9 20  4  6 13 15 12 12\n",
      "  0  7 15 14  8  3 18 14 15 18 14 24 20 18 17 14 14 18 21 14 24 14 14 15\n",
      " 11 18 22  9 13 23 18 20 23 13  3  6  4 18 18 15 23 18 15 14 19 20 17  0\n",
      " 20 14 14 19 20 19 20 14 14  0 23 14  9 20  4 18 18 15 20  2 15 18 14  7\n",
      " 14 17 10  0 20 20 18 14  2 18 15 18 25 20 14  6  3 18 22 15 20 17 19 22\n",
      " 20 11  1 14  2  2 20  4  1  2 20 23 14 18 13  2 24 20 14 18 14  3  3 14\n",
      "  8 16 14 19 18 18 22 20 14 12 22  1 21 22 22  0 11 20  0 14 18  9 11 15\n",
      " 14 20 14  2 11  4 15  3  1  5 22 14 18 19  4 23 17 14 16  2  2 12 14 19\n",
      " 24 18 11 20 18  7 17 20  2 16 21 18 13  4  1 21  2 14 18 25 18 18 11 18\n",
      " 14 20  2 14 17 19 20 19 19  7  2 14 20 16  0 20  0 21  1 13 20 14 13  4\n",
      " 14  0 18  0  9  0 20 20 11 25 18  4  7 15 24  6 10  1 15 22 20 20 14  2\n",
      " 19 11 19  9 14 12 17 16 14 14 14 19 14 18 18 24 15  4 16 14 20 19 10 14\n",
      "  2 14  2  3  2 14 14 14 14 14 11 15 23 14  2  4 18 14 24 11 18 18  1 14\n",
      " 20 23 19 12 17 15 12 18 14  4 23  2 19 13 12 14 10 25 13 13 18 22  0 14\n",
      "  2 14 19 20 17 24 14  2  0 15 18  7 15  3 15 12 20 16 15 17  6 19 14 18\n",
      "  1 20  4 22 15 25 19 18 14 15  2 14 18 11 18 11 11 13 14 13 15 18 14 15\n",
      " 18 20 24 19 17  4 10 25  5 10 19 15 17  2 17  4 18 14 17 20 15 13 18 11\n",
      "  4 21 20  2  9  4 14  3 13  4  7 18 20 19 23  9  2 17 20 18  2 19 14 24\n",
      " 14 22  4 19 16  1 20 20 14 14 11  2  2  2  1 17  3 14 13 22 12 14 16 22\n",
      " 18 24 18  5 12 23 14  0 14 14 22 15 20 14  2  3  4 17 15  3 18 14 24 19\n",
      "  1  1 11 20  0  3 20 18  2 17 13 12 20 15 18 17 19 15 18 20 18  0 13  3\n",
      "  2  3 19 13 11 14 10 14  2 18 12 16 18 14 15  7 20  6  7 18 19 22 14 21\n",
      " 11  7 14 13 22 18  2 18 20 18 14 18 14  3 14 19  2 14 18 22 14 13 25 24\n",
      " 11  2 23  0 18  3 20 15  9 19  0  9 18  2 18  2 18 15 20 18 15  4 18 18\n",
      " 16 22 15 12 18 14 20  6 11 10 14  2 13 20 10 22  1 15 17 18  0 19 14  0\n",
      " 18 19  6 14 18  7 14 14 14  3 15 19 17 18 11 10 14 17 13 15 14 18 15 23\n",
      " 20 18 15 19 13 15 13 20 19 13 22 13 17 12 24 25 23 14  7  4 20 14 15 24\n",
      " 12 13 13 19 20 11  6 20  1 12 22 18 14 20 18  7 20  9  9 23  2 13 20 11\n",
      " 19 20 20  2 19  3  4  2 19 18 14  0 13 15  3 14  3  9 14  8 19  0 25 19\n",
      " 19 23 11 17 11 18 17  7 23 14 16  0  7 14 24 18  0 11 18 14  1 19  0 18\n",
      "  0 14  0 14 12 14 19 15 18 11 14 23 15 14 14  2 19 11 14 11 18 20 14  7\n",
      " 11 19 18 18 13 14 15  2 14  4 15 18 19 14  2 18 14 20  7 11 14  0  1  4\n",
      " 22 18  4  7 20 14  0 15  6 14 18 11 20 13 24 19 20 19 15 14 24 22 12  6\n",
      " 11 19 18 14  2 11  4 25 15 13 14  2 12  7 11 14  4 14 12 15 19  9  0  4\n",
      " 14 16 15  0 13  7 23 13  2  9 12 19 18  2 18 13 22  7 18 23 11 20 15 14\n",
      "  9  3 15 14 23 14 14  3 14 24 15  3 22 19 15 18 15 19 14  1  2  4 15  9\n",
      " 11  0 19 14 15 20 25 17 24 18 14 18 13  0 13 18] [14 20 20  6 18 15 18 20 14 12 17 24 16 14  4 14 15 23 18 19 17 24  3 14\n",
      "  0 14 18  3  0  3 11 15 14 14  1 13  4  2 18  9 24  1  2 18 14 14 12 11\n",
      " 24 14 18 20 24 14 18  3 22 15 10 20 19  2 11 12  1 10 19 19  1 17 19 23\n",
      " 15  2 11 20 24 15 12 14 20 16  4 18 14 18 23 12  2 19 14 20 20 18  9 20\n",
      "  0 15  3 15  2 18 14 17 18 16 14 12 16  4  2  1 14 19 14 14 17 14 12 20\n",
      " 24  1 18 19  0 12 10  1 16 17  3 20 12 25 22 14  9 20 18  6 13 15 12 12\n",
      "  0  7 15 14  8  3 18 14 15 18 14 24 20 18 17 14 14 18 21 14 24 14 14 15\n",
      " 11 18 22  9 22 23 18 20 23 13  3  4 11 18 18 15 23 18 15 14 19 20 17  0\n",
      " 20 14 14 19 20 19 20 14 14 17 23 14  8 20  2 18 18 15 20  2 15 18 14  7\n",
      " 14  0 10  0 20 20 18 14  2 18 15 18 25 20 14  6  3 18 10 15 20 17 19 13\n",
      " 20 11  1 14  2 16 20 20  1  2 20 23 14 18 13  2 24 20 14 18 14  3  3 14\n",
      "  8 17 14 19 18 18 22 20 14 12 22  1 21 22 22  0 11 20  0 14 18  9 11 15\n",
      " 14 20 14  2 11  4 16  3  1  5 22 14 18 19  4 23 17 14 16  2  2 12 14 19\n",
      " 24  1 11 20 18  7 17 20  4 16 21 18 13  6  1 21 14 14 18 17 18 18 11 18\n",
      " 14 20  2  2 17 19 20 19 19  7  2 14 20 16  1 20  0 21  4 13 20  2 13  4\n",
      " 14  0 18  0  9  0 20 20 11 25 18  4  7 15 24  6 12  1 15 22 22 20 14  2\n",
      " 19 11 19  9 14 12 17 16 14 14 14 19 14 18 18 15 15  4 16 14 20 19 24  3\n",
      "  2 14 14 18  2 14 14 14 14 14  4 15 23 14  2  4 18 14 24 11 18 18 25 14\n",
      " 20 23 19 12 17 15 12 18 14  4 23 14 19 13 13 14 10 25 21 13 18 22  0 14\n",
      "  2 14 19 20 17 24 14  2  0 15 18  7 15  3 15 12 20  6 15 17  6 19 14 18\n",
      "  6 20  4 22 15 25 19 18 14 15  2 14 18 11 18 11 11 13 14 13 15 18 14 17\n",
      " 18 20 24 19 16  4 21 25  5 21 19 15 17  2 17  4 18  3 17 20 15 13 18 20\n",
      "  4 21 20  2  9  4 14  3 13  4 17 18 20 19 23  9  2 17 22 18  2 19 14 24\n",
      " 14 22  4 19 16  1 20 20 14 14 11  2  2  2  1 16  3 14 13 22 12 14 16 22\n",
      " 20 24 18  5 12 23 14  0 14 14 22 15 20 14  2  3  4 17 15 18 18 14 24 19\n",
      "  1  6 11 20  2  3 20 18  2 17 13 12 20 19 18 17 19  1 18 20 18  0 13  3\n",
      "  2  3 24 13 11 14 10 14  2 18 12 16 18 14 15  0 20  6 13 18 19 22 14 21\n",
      " 11  7 14 13 22 18  2 18 20 18 14 18 14  3 14 19  2  1 18 22 14 13 25 24\n",
      " 11  2 23  0 18  3 20 15  9 19  0  9 18  2 18  2 18 15 20 18 15 15 18 18\n",
      " 18 20 15 12 18 14 20  6 11 10 14  2 13 20 10 22  1 15 17  5  0 18 14  1\n",
      " 18 19  6 14 18  7 14 14 14  3 15 19 17 18 11 10 14 17 23 15 14 18 15 23\n",
      " 20 18 15 19 13 15 13 20 19 13 22 12 23 12 24 25 23 14  7  4 20 14 15 24\n",
      " 12 17 13 17 20 11  6 20 16 12 13 18 14 20  1  7 20  9  9 23  2 13 20 11\n",
      " 19 20 20  2 19  3  4  2 19 18 14 17 13 15  3 14  3  9 14  8 19  0 25 19\n",
      " 19 23 11 17 11 18 16  7 23 14  4  0  7 14 24 18  7 11 18 14  1 19  0 18\n",
      "  0 13  0 14 12 14 19 15 18 11 14 10 15 14 14  2 19 11 14 11 18 20 14  7\n",
      " 11 19 18 18 13 14 15  2 14  4 15 18 19 14  2 18 14 20  7 11 14  7  1  4\n",
      " 22 18  4  7 20 12  0 15  6 14 18 11 20 13 24 19 11 19 15 14 24 22 12  6\n",
      " 11 19 18 14  2 11  4 25 15 13 14  2 12  7  4 14  4 14 12 15 19  9  0  4\n",
      " 14 16 15  2 17  7  3 22  2  9 12 19 18  2 18 13 22  7 18 23 11 20 15 14\n",
      "  9  3 15 14 23 14 14  3 14 24 15  3 13 19 15 18  3 19 14  1  2  4 15  9\n",
      " 11  0 19 14 15 20  4 17 24 18 14 18 13 17 12 18]\n"
     ]
    },
    {
     "data": {
      "text/plain": [
       "0.896"
      ]
     },
     "execution_count": 12,
     "metadata": {},
     "output_type": "execute_result"
    }
   ],
   "source": [
    "dev_predictions = make_predictions(test_X, W1, B1, W2, B2)\n",
    "get_accuracy(dev_predictions, test_Y)"
   ]
  },
  {
   "cell_type": "markdown",
   "id": "ddcbc530",
   "metadata": {
    "papermill": {
     "duration": 0.016555,
     "end_time": "2023-06-18T21:06:19.667758",
     "exception": false,
     "start_time": "2023-06-18T21:06:19.651203",
     "status": "completed"
    },
    "tags": []
   },
   "source": [
    "About 87% accuracy on test data.\n"
   ]
  },
  {
   "cell_type": "markdown",
   "id": "1c8a9ceb",
   "metadata": {
    "papermill": {
     "duration": 0.015297,
     "end_time": "2023-06-18T21:06:19.699343",
     "exception": false,
     "start_time": "2023-06-18T21:06:19.684046",
     "status": "completed"
    },
    "tags": []
   },
   "source": [
    "Decent for a 2 layer Network (1 hidden Layer, depth of 20)"
   ]
  }
 ],
 "metadata": {
  "kernelspec": {
   "display_name": "Python 3",
   "language": "python",
   "name": "python3"
  },
  "language_info": {
   "codemirror_mode": {
    "name": "ipython",
    "version": 3
   },
   "file_extension": ".py",
   "mimetype": "text/x-python",
   "name": "python",
   "nbconvert_exporter": "python",
   "pygments_lexer": "ipython3",
   "version": "3.10.10"
  },
  "papermill": {
   "default_parameters": {},
   "duration": 2141.882814,
   "end_time": "2023-06-18T21:06:20.748542",
   "environment_variables": {},
   "exception": null,
   "input_path": "__notebook__.ipynb",
   "output_path": "__notebook__.ipynb",
   "parameters": {},
   "start_time": "2023-06-18T20:30:38.865728",
   "version": "2.4.0"
  }
 },
 "nbformat": 4,
 "nbformat_minor": 5
}
