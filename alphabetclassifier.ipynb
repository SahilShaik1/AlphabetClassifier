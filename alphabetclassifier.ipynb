{
 "cells": [
  {
   "cell_type": "code",
   "execution_count": 1,
   "id": "30a9fb3f",
   "metadata": {
    "_cell_guid": "b1076dfc-b9ad-4769-8c92-a6c4dae69d19",
    "_uuid": "8f2839f25d086af736a60e9eeb907d3b93b6e0e5",
    "execution": {
     "iopub.execute_input": "2023-06-18T19:20:09.810815Z",
     "iopub.status.busy": "2023-06-18T19:20:09.810498Z",
     "iopub.status.idle": "2023-06-18T19:20:09.819206Z",
     "shell.execute_reply": "2023-06-18T19:20:09.818389Z"
    },
    "papermill": {
     "duration": 0.015726,
     "end_time": "2023-06-18T19:20:09.821007",
     "exception": false,
     "start_time": "2023-06-18T19:20:09.805281",
     "status": "completed"
    },
    "tags": []
   },
   "outputs": [],
   "source": [
    "# This Python 3 environment comes with many helpful analytics libraries installed\n",
    "# It is defined by the kaggle/python Docker image: https://github.com/kaggle/docker-python\n",
    "# For example, here's several helpful packages to load\n",
    "\n",
    "import numpy as np # linear algebra\n",
    "import pandas as pd # data processing, CSV file I/O (e.g. pd.read_csv)\n",
    "\n",
    "# You can write up to 20GB to the current directory (/kaggle/working/) that gets preserved as output when you create a version using \"Save & Run All\" \n",
    "# You can also write temporary files to /kaggle/temp/, but they won't be saved outside of the current session"
   ]
  },
  {
   "cell_type": "code",
   "execution_count": 2,
   "id": "97d7063f",
   "metadata": {
    "execution": {
     "iopub.execute_input": "2023-06-18T19:20:09.828802Z",
     "iopub.status.busy": "2023-06-18T19:20:09.828570Z",
     "iopub.status.idle": "2023-06-18T19:20:33.843439Z",
     "shell.execute_reply": "2023-06-18T19:20:33.842502Z"
    },
    "papermill": {
     "duration": 24.021437,
     "end_time": "2023-06-18T19:20:33.846077",
     "exception": false,
     "start_time": "2023-06-18T19:20:09.824640",
     "status": "completed"
    },
    "tags": []
   },
   "outputs": [],
   "source": [
    "data = pd.read_csv('/kaggle/input/az-handwritten-alphabets-in-csv-format/A_Z Handwritten Data.csv')"
   ]
  },
  {
   "cell_type": "code",
   "execution_count": 3,
   "id": "cd343eea",
   "metadata": {
    "execution": {
     "iopub.execute_input": "2023-06-18T19:20:33.853934Z",
     "iopub.status.busy": "2023-06-18T19:20:33.853693Z",
     "iopub.status.idle": "2023-06-18T19:20:33.884088Z",
     "shell.execute_reply": "2023-06-18T19:20:33.883352Z"
    },
    "papermill": {
     "duration": 0.036067,
     "end_time": "2023-06-18T19:20:33.885699",
     "exception": false,
     "start_time": "2023-06-18T19:20:33.849632",
     "status": "completed"
    },
    "tags": []
   },
   "outputs": [
    {
     "data": {
      "text/html": [
       "<div>\n",
       "<style scoped>\n",
       "    .dataframe tbody tr th:only-of-type {\n",
       "        vertical-align: middle;\n",
       "    }\n",
       "\n",
       "    .dataframe tbody tr th {\n",
       "        vertical-align: top;\n",
       "    }\n",
       "\n",
       "    .dataframe thead th {\n",
       "        text-align: right;\n",
       "    }\n",
       "</style>\n",
       "<table border=\"1\" class=\"dataframe\">\n",
       "  <thead>\n",
       "    <tr style=\"text-align: right;\">\n",
       "      <th></th>\n",
       "      <th>0</th>\n",
       "      <th>0.1</th>\n",
       "      <th>0.2</th>\n",
       "      <th>0.3</th>\n",
       "      <th>0.4</th>\n",
       "      <th>0.5</th>\n",
       "      <th>0.6</th>\n",
       "      <th>0.7</th>\n",
       "      <th>0.8</th>\n",
       "      <th>0.9</th>\n",
       "      <th>...</th>\n",
       "      <th>0.639</th>\n",
       "      <th>0.640</th>\n",
       "      <th>0.641</th>\n",
       "      <th>0.642</th>\n",
       "      <th>0.643</th>\n",
       "      <th>0.644</th>\n",
       "      <th>0.645</th>\n",
       "      <th>0.646</th>\n",
       "      <th>0.647</th>\n",
       "      <th>0.648</th>\n",
       "    </tr>\n",
       "  </thead>\n",
       "  <tbody>\n",
       "    <tr>\n",
       "      <th>0</th>\n",
       "      <td>0</td>\n",
       "      <td>0</td>\n",
       "      <td>0</td>\n",
       "      <td>0</td>\n",
       "      <td>0</td>\n",
       "      <td>0</td>\n",
       "      <td>0</td>\n",
       "      <td>0</td>\n",
       "      <td>0</td>\n",
       "      <td>0</td>\n",
       "      <td>...</td>\n",
       "      <td>0</td>\n",
       "      <td>0</td>\n",
       "      <td>0</td>\n",
       "      <td>0</td>\n",
       "      <td>0</td>\n",
       "      <td>0</td>\n",
       "      <td>0</td>\n",
       "      <td>0</td>\n",
       "      <td>0</td>\n",
       "      <td>0</td>\n",
       "    </tr>\n",
       "    <tr>\n",
       "      <th>1</th>\n",
       "      <td>0</td>\n",
       "      <td>0</td>\n",
       "      <td>0</td>\n",
       "      <td>0</td>\n",
       "      <td>0</td>\n",
       "      <td>0</td>\n",
       "      <td>0</td>\n",
       "      <td>0</td>\n",
       "      <td>0</td>\n",
       "      <td>0</td>\n",
       "      <td>...</td>\n",
       "      <td>0</td>\n",
       "      <td>0</td>\n",
       "      <td>0</td>\n",
       "      <td>0</td>\n",
       "      <td>0</td>\n",
       "      <td>0</td>\n",
       "      <td>0</td>\n",
       "      <td>0</td>\n",
       "      <td>0</td>\n",
       "      <td>0</td>\n",
       "    </tr>\n",
       "    <tr>\n",
       "      <th>2</th>\n",
       "      <td>0</td>\n",
       "      <td>0</td>\n",
       "      <td>0</td>\n",
       "      <td>0</td>\n",
       "      <td>0</td>\n",
       "      <td>0</td>\n",
       "      <td>0</td>\n",
       "      <td>0</td>\n",
       "      <td>0</td>\n",
       "      <td>0</td>\n",
       "      <td>...</td>\n",
       "      <td>0</td>\n",
       "      <td>0</td>\n",
       "      <td>0</td>\n",
       "      <td>0</td>\n",
       "      <td>0</td>\n",
       "      <td>0</td>\n",
       "      <td>0</td>\n",
       "      <td>0</td>\n",
       "      <td>0</td>\n",
       "      <td>0</td>\n",
       "    </tr>\n",
       "    <tr>\n",
       "      <th>3</th>\n",
       "      <td>0</td>\n",
       "      <td>0</td>\n",
       "      <td>0</td>\n",
       "      <td>0</td>\n",
       "      <td>0</td>\n",
       "      <td>0</td>\n",
       "      <td>0</td>\n",
       "      <td>0</td>\n",
       "      <td>0</td>\n",
       "      <td>0</td>\n",
       "      <td>...</td>\n",
       "      <td>0</td>\n",
       "      <td>0</td>\n",
       "      <td>0</td>\n",
       "      <td>0</td>\n",
       "      <td>0</td>\n",
       "      <td>0</td>\n",
       "      <td>0</td>\n",
       "      <td>0</td>\n",
       "      <td>0</td>\n",
       "      <td>0</td>\n",
       "    </tr>\n",
       "    <tr>\n",
       "      <th>4</th>\n",
       "      <td>0</td>\n",
       "      <td>0</td>\n",
       "      <td>0</td>\n",
       "      <td>0</td>\n",
       "      <td>0</td>\n",
       "      <td>0</td>\n",
       "      <td>0</td>\n",
       "      <td>0</td>\n",
       "      <td>0</td>\n",
       "      <td>0</td>\n",
       "      <td>...</td>\n",
       "      <td>0</td>\n",
       "      <td>0</td>\n",
       "      <td>0</td>\n",
       "      <td>0</td>\n",
       "      <td>0</td>\n",
       "      <td>0</td>\n",
       "      <td>0</td>\n",
       "      <td>0</td>\n",
       "      <td>0</td>\n",
       "      <td>0</td>\n",
       "    </tr>\n",
       "  </tbody>\n",
       "</table>\n",
       "<p>5 rows × 785 columns</p>\n",
       "</div>"
      ],
      "text/plain": [
       "   0  0.1  0.2  0.3  0.4  0.5  0.6  0.7  0.8  0.9  ...  0.639  0.640  0.641  \\\n",
       "0  0    0    0    0    0    0    0    0    0    0  ...      0      0      0   \n",
       "1  0    0    0    0    0    0    0    0    0    0  ...      0      0      0   \n",
       "2  0    0    0    0    0    0    0    0    0    0  ...      0      0      0   \n",
       "3  0    0    0    0    0    0    0    0    0    0  ...      0      0      0   \n",
       "4  0    0    0    0    0    0    0    0    0    0  ...      0      0      0   \n",
       "\n",
       "   0.642  0.643  0.644  0.645  0.646  0.647  0.648  \n",
       "0      0      0      0      0      0      0      0  \n",
       "1      0      0      0      0      0      0      0  \n",
       "2      0      0      0      0      0      0      0  \n",
       "3      0      0      0      0      0      0      0  \n",
       "4      0      0      0      0      0      0      0  \n",
       "\n",
       "[5 rows x 785 columns]"
      ]
     },
     "execution_count": 3,
     "metadata": {},
     "output_type": "execute_result"
    }
   ],
   "source": [
    "data.head()"
   ]
  },
  {
   "cell_type": "code",
   "execution_count": 4,
   "id": "7a58d451",
   "metadata": {
    "execution": {
     "iopub.execute_input": "2023-06-18T19:20:33.894453Z",
     "iopub.status.busy": "2023-06-18T19:20:33.893594Z",
     "iopub.status.idle": "2023-06-18T19:20:34.210025Z",
     "shell.execute_reply": "2023-06-18T19:20:34.209097Z"
    },
    "papermill": {
     "duration": 0.322709,
     "end_time": "2023-06-18T19:20:34.212075",
     "exception": false,
     "start_time": "2023-06-18T19:20:33.889366",
     "status": "completed"
    },
    "tags": []
   },
   "outputs": [],
   "source": [
    "data = np.array(data)"
   ]
  },
  {
   "cell_type": "code",
   "execution_count": 5,
   "id": "4188740a",
   "metadata": {
    "execution": {
     "iopub.execute_input": "2023-06-18T19:20:34.220798Z",
     "iopub.status.busy": "2023-06-18T19:20:34.220457Z",
     "iopub.status.idle": "2023-06-18T19:20:34.264538Z",
     "shell.execute_reply": "2023-06-18T19:20:34.263282Z"
    },
    "papermill": {
     "duration": 0.050729,
     "end_time": "2023-06-18T19:20:34.266560",
     "exception": false,
     "start_time": "2023-06-18T19:20:34.215831",
     "status": "completed"
    },
    "tags": []
   },
   "outputs": [
    {
     "name": "stdout",
     "output_type": "stream",
     "text": [
      "(372450, 785)\n",
      "0\n"
     ]
    }
   ],
   "source": [
    "m, n = data.shape\n",
    "print(data.shape)\n",
    "print(np.count_nonzero(np.isnan(data)))"
   ]
  },
  {
   "cell_type": "code",
   "execution_count": 6,
   "id": "c30c704b",
   "metadata": {
    "execution": {
     "iopub.execute_input": "2023-06-18T19:20:34.275364Z",
     "iopub.status.busy": "2023-06-18T19:20:34.275011Z",
     "iopub.status.idle": "2023-06-18T19:20:37.846952Z",
     "shell.execute_reply": "2023-06-18T19:20:37.846109Z"
    },
    "papermill": {
     "duration": 3.578727,
     "end_time": "2023-06-18T19:20:37.848977",
     "exception": false,
     "start_time": "2023-06-18T19:20:34.270250",
     "status": "completed"
    },
    "tags": []
   },
   "outputs": [],
   "source": [
    "np.random.shuffle(data)\n",
    "#Seperate into training and testing once shuffled\n",
    "\n",
    "#leave 1000 for testing\n",
    "test_data = data[0:1000].T\n",
    "test_Y = test_data[0]\n",
    "test_X = test_data[1:n]\n",
    "test_X = test_X / 255\n",
    "\n",
    "#rest is for training\n",
    "train_data = data[1000:m].T\n",
    "train_Y = train_data[0]\n",
    "train_X = train_data[1:n]\n",
    "train_X = train_X / 255"
   ]
  },
  {
   "cell_type": "code",
   "execution_count": 7,
   "id": "2ee69dae",
   "metadata": {
    "execution": {
     "iopub.execute_input": "2023-06-18T19:20:37.859231Z",
     "iopub.status.busy": "2023-06-18T19:20:37.858914Z",
     "iopub.status.idle": "2023-06-18T19:20:37.863747Z",
     "shell.execute_reply": "2023-06-18T19:20:37.862845Z"
    },
    "papermill": {
     "duration": 0.012638,
     "end_time": "2023-06-18T19:20:37.865451",
     "exception": false,
     "start_time": "2023-06-18T19:20:37.852813",
     "status": "completed"
    },
    "tags": []
   },
   "outputs": [
    {
     "name": "stdout",
     "output_type": "stream",
     "text": [
      "(784, 371450)\n",
      "(371450,)\n"
     ]
    }
   ],
   "source": [
    "print(train_X.shape)\n",
    "print(train_Y.shape)"
   ]
  },
  {
   "cell_type": "code",
   "execution_count": 8,
   "id": "e544782e",
   "metadata": {
    "execution": {
     "iopub.execute_input": "2023-06-18T19:20:37.874148Z",
     "iopub.status.busy": "2023-06-18T19:20:37.873805Z",
     "iopub.status.idle": "2023-06-18T19:20:37.886376Z",
     "shell.execute_reply": "2023-06-18T19:20:37.885361Z"
    },
    "papermill": {
     "duration": 0.01955,
     "end_time": "2023-06-18T19:20:37.888741",
     "exception": false,
     "start_time": "2023-06-18T19:20:37.869191",
     "status": "completed"
    },
    "tags": []
   },
   "outputs": [],
   "source": [
    "def init():\n",
    "    #X -> (784, 371450)\n",
    "    #Hidden Layer Depth of 20(trust), 25 output nodes\n",
    "    W1 = np.random.rand(20, 784) - 0.5\n",
    "    #X -> (20, 371450)\n",
    "    B1 = np.random.rand(20, 1) - 0.5\n",
    "    #X -> (20, 371450)\n",
    "    W2 = np.random.rand(26, 20) - 0.5\n",
    "    #X -> (25, 371450)\n",
    "    B2 = np.random.rand(26, 1) - 0.5\n",
    "    #X -> (25, 371450)\n",
    "    return W1, B1, W2, B2\n",
    "def softmax(X):\n",
    "    A = np.exp(X) / sum(np.exp(X))\n",
    "    return A\n",
    "def leaky_relu(X):\n",
    "    #leaky relu with alpha set as 0.01\n",
    "    return np.maximum(0.01 * X, X)\n",
    "def rev_relu(Z):\n",
    "    #derivative of leaky relu function\n",
    "    alpha = 0.01\n",
    "    return np.where(Z>0, 1, alpha)\n",
    "\n",
    "def forward(X, W1, B1, W2, B2):\n",
    "    Z1 = W1.dot(X) + B1\n",
    "    A1 = leaky_relu(Z1)\n",
    "    Z2 = W2.dot(A1) + B2\n",
    "    A2 = softmax(Z2)\n",
    "    return Z1, A1, Z2, A2\n",
    "\n",
    "def one_hot(Y):\n",
    "    one_hot_Y = np.zeros((Y.size, Y.max() + 1))\n",
    "    one_hot_Y[np.arange(Y.size), Y] = 1\n",
    "    one_hot_Y = one_hot_Y.T\n",
    "    return one_hot_Y\n",
    "\n",
    "def backward(X, Y, W1, B1, W2, B2, Z1, A1, Z2, A2, LR):\n",
    "    #Calculate derivatives\n",
    "    labels = one_hot(Y)\n",
    "    dz2 = A2 - labels\n",
    "    dw2 = (1 / m) * dz2.dot(A1.T)\n",
    "    db2 = (1 / m) * np.sum(dz2)\n",
    "    dz1 = W2.T.dot(dz2) * rev_relu(Z1)\n",
    "    dw1 = (1 / m) * dz1.dot(X.T)\n",
    "    db1 = (1 / m) * np.sum(dz1)\n",
    "    \n",
    "    #Update weights/biases\n",
    "    W1 = W1 - (LR * dw1)\n",
    "    B1 = B1 - (LR * db1)\n",
    "    W2 = W2 - (LR * dw2)\n",
    "    B2 = B2 - (LR * db2)\n",
    "    \n",
    "    #return new weights/biases\n",
    "    return W1, B1, W2, B2\n",
    "\n",
    "def learn(epochRate, X, Y, LR):\n",
    "    W1, B1, W2, B2 = init()\n",
    "    for i in range(epochRate):\n",
    "        Z1, A1, Z2, A2 = forward(X, W1, B1, W2, B2)\n",
    "        W1, B1, W2, B2 = backward(X, Y, W1, B1, W2, B2, Z1, A1, Z2, A2, LR)\n",
    "        if (i % (0.1 * epochRate) == 0):\n",
    "            print(f\"Epoch {i} Completed.\")\n",
    "    return W1, B1, W2, B2"
   ]
  },
  {
   "cell_type": "code",
   "execution_count": 9,
   "id": "6a1ae85f",
   "metadata": {
    "execution": {
     "iopub.execute_input": "2023-06-18T19:20:37.897693Z",
     "iopub.status.busy": "2023-06-18T19:20:37.897367Z",
     "iopub.status.idle": "2023-06-18T19:38:09.497170Z",
     "shell.execute_reply": "2023-06-18T19:38:09.495889Z"
    },
    "papermill": {
     "duration": 1051.606747,
     "end_time": "2023-06-18T19:38:09.499390",
     "exception": false,
     "start_time": "2023-06-18T19:20:37.892643",
     "status": "completed"
    },
    "tags": []
   },
   "outputs": [
    {
     "name": "stdout",
     "output_type": "stream",
     "text": [
      "Epoch 0 Completed.\n",
      "Epoch 100 Completed.\n",
      "Epoch 200 Completed.\n",
      "Epoch 300 Completed.\n",
      "Epoch 400 Completed.\n",
      "Epoch 500 Completed.\n",
      "Epoch 600 Completed.\n",
      "Epoch 700 Completed.\n",
      "Epoch 800 Completed.\n",
      "Epoch 900 Completed.\n"
     ]
    }
   ],
   "source": [
    "W1, B1, W2, B2 = learn(1000, train_X, train_Y, 1)"
   ]
  },
  {
   "cell_type": "code",
   "execution_count": 10,
   "id": "4ce8304d",
   "metadata": {
    "execution": {
     "iopub.execute_input": "2023-06-18T19:38:09.511655Z",
     "iopub.status.busy": "2023-06-18T19:38:09.511341Z",
     "iopub.status.idle": "2023-06-18T19:38:09.520779Z",
     "shell.execute_reply": "2023-06-18T19:38:09.520158Z"
    },
    "papermill": {
     "duration": 0.017731,
     "end_time": "2023-06-18T19:38:09.522719",
     "exception": false,
     "start_time": "2023-06-18T19:38:09.504988",
     "status": "completed"
    },
    "tags": []
   },
   "outputs": [],
   "source": [
    "#To show training\n",
    "def get_predictions(A2):\n",
    "    return np.argmax(A2, 0)\n",
    "\n",
    "def get_accuracy(predictions, Y):\n",
    "    #get accuracy\n",
    "    print(predictions, Y)\n",
    "    return np.sum(predictions == Y) / Y.size\n",
    "\n",
    "def make_predictions(X, W1, b1, W2, b2):\n",
    "    _, _, _, A2 = forward(X, W1, b1, W2, b2)\n",
    "    predictions = get_predictions(A2)\n",
    "    return predictions\n",
    "\n",
    "def test_prediction(index, W1, b1, W2, b2):\n",
    "    current_image = train_X[:, index, None]\n",
    "    prediction = make_predictions(train_X[:, index, None], W1, b1, W2, b2)\n",
    "    label = train_Y[index]\n",
    "    return prediction, label"
   ]
  },
  {
   "cell_type": "code",
   "execution_count": 11,
   "id": "861f551a",
   "metadata": {
    "execution": {
     "iopub.execute_input": "2023-06-18T19:38:09.535850Z",
     "iopub.status.busy": "2023-06-18T19:38:09.535517Z",
     "iopub.status.idle": "2023-06-18T19:38:32.212555Z",
     "shell.execute_reply": "2023-06-18T19:38:32.211724Z"
    },
    "papermill": {
     "duration": 22.68561,
     "end_time": "2023-06-18T19:38:32.214313",
     "exception": false,
     "start_time": "2023-06-18T19:38:09.528703",
     "status": "completed"
    },
    "tags": []
   },
   "outputs": [
    {
     "name": "stdout",
     "output_type": "stream",
     "text": [
      "Accuracy\n",
      "0.8845012787723785\n"
     ]
    }
   ],
   "source": [
    "count = 0\n",
    "maxNum = 371450\n",
    "for i in range(maxNum):\n",
    "    pred, lab = test_prediction(i, W1, B1, W2, B2)\n",
    "    if pred == lab:\n",
    "        count = count + 1\n",
    "print(\"Accuracy\")\n",
    "print(count / maxNum)"
   ]
  },
  {
   "cell_type": "code",
   "execution_count": 12,
   "id": "78734b38",
   "metadata": {
    "execution": {
     "iopub.execute_input": "2023-06-18T19:38:32.227259Z",
     "iopub.status.busy": "2023-06-18T19:38:32.226938Z",
     "iopub.status.idle": "2023-06-18T19:38:32.247330Z",
     "shell.execute_reply": "2023-06-18T19:38:32.246610Z"
    },
    "papermill": {
     "duration": 0.02843,
     "end_time": "2023-06-18T19:38:32.249363",
     "exception": false,
     "start_time": "2023-06-18T19:38:32.220933",
     "status": "completed"
    },
    "tags": []
   },
   "outputs": [
    {
     "name": "stdout",
     "output_type": "stream",
     "text": [
      "[ 2 20 18 14 23 18 13 21 14 25 14 14 23 15  2 19  1 14  7  4 12 13 17 15\n",
      " 14 20 17 13  9 22 13 14 22  3 17 13 11 23 14 17 15  6 18 25 14  3 15 18\n",
      "  2  3 19 16 14 24 20 18 20  5 13 12 11 18 23 20 21 18 14 25 22 15  0 22\n",
      " 14 19 20  4 18 13 12 20  2 13 13  2 20 11  3 19 12 20  0 11 14  6 18  4\n",
      " 20 22 18 21  2 19  0  7  0  0 15 25 13 14 19 19  9  2  1  2  2  2 15 14\n",
      " 25 25 12  0 12  1 20 18 18  0 24 25 13 24  0 18  0  9 18 19 20  9  7 14\n",
      " 11 19  3  2 14 18 11 14 17 14 12 20 17 17 12 18 17  4 14 14 13 11  0 22\n",
      "  0 15 13  2 14 14 13  2 20 18  2 14 24 15  3 20 18  1 11 25 20 20  0 16\n",
      " 20 14 19 11  2 13 25 20 19 17  2 14 24 14 23 14 18  3  5 12 18 12 10  4\n",
      " 14 24 18 22 14 24 14 12 18  2 19 15 20 14  4 18 21 18 18 18 14 18 19 18\n",
      " 13  2 12  1 15 13 18  9  4  0 19  9  0 21  0  4 22 10 15 20 18 21 13  2\n",
      " 19  9 23 20 11  5 11 14 14 14 18 14 13 15 14 14  2 13 20 18 23  1 18  4\n",
      " 19  2  1 13 13 14 18 18 14 19 13 18  7  2 13 14 16  8 14 17 18 19 18 19\n",
      "  2 11  2 14  1 20 25 20 14  2  4 14 14 20 18 23 14 23  2 13 14 13 15 20\n",
      "  7  4 15 18 13  9 11 12 12 16 11 18 20 18  2 18 20 19 20 14 15 19  6 18\n",
      " 15  2 14 14  6 15 12  9 24 18  4 11 18 17 13 19 20  4 14 19 17 14 18 20\n",
      " 21 14 18  7 24  7 18 14 11 14  3 18 11  4  3 15 20 14 14 20 18 20 16  0\n",
      " 18  0 13 14 14 18  2  4 20 18  2 12 16  4  6 12 14 18 18  2 16 14 23  2\n",
      " 13  1 19 22 10 12  3 14 14  0  2  3 18 19 14 14 12 22 15 20 12 22 15 18\n",
      " 18 15  9 15 19  4  0 14 11 14 18 18 11 14  9 20 13  1 20  3 13  2 20 18\n",
      "  0 18  0 16  9 18 24 16  9 13  1 15  0 14 14 15 19 15  1 20 13 14 18 20\n",
      " 14 17 14 14 19 18 15 14 18 20 14 18 18  4 18  4 17 14 22  2 24 22 13  0\n",
      "  4 11 19 20 22 13 18 12 19 20 20  0 20 12 14 22 14 25 18 17 18 12 18  1\n",
      "  0 18 19 20 20 10  0  9  0 19 14 20 20  2  0 14 14 14  5 18  2 18  1 13\n",
      " 14 14 12  3 18 15 11 24 23 13 20 22 10 22 18 20 14 18 14 14 14 20  2 18\n",
      "  3 14 20  4 12 14  2  1  0 24 14 18 14  0 11 23 14  2 15 17 24 12 14 17\n",
      "  4 11 20 18 20  3 22 14  1  4 18 19 10 20 13 13 11 14 22  3  1 21 18 14\n",
      "  9 14  6  1 18 14 18 14 14 18  3  8 12 20 14  9 18 19 15  1 17 17  0 20\n",
      " 19  1  2 20 14  3  3 25 14 19  3 19  4 15 14 18  2  2  0 18 13 11  9 18\n",
      "  9 12  4 14 19 19 19 19 20 18  3 15 18 15 23 13 21 14 14  2 14 15 20  7\n",
      " 18 25 14 19  2 13  7 19 19 17 11 18 19 19 14  7 13 18  4 13  2 14 14 13\n",
      "  4  3 10 14 14 11  4  2  9 12 20 18 18 10 23 18 18  6 11 18 14 15 18 14\n",
      " 15 11  4 20 17  3 13 13 19 10 14  4 12 24 20 18 14  2 14 21 22 19 18 13\n",
      "  0  1  2 18 13 14 10 20 18 14 20 19 21 22 18 20  0 11 19 20 18 14 14 18\n",
      "  3 22 14 23 21 13 16  4 18 11 12  9 24 19  6 19 18  7 14 25 11 25 20 14\n",
      " 19 19 14 13 14  2 18 19 22 15 10  7 14 19 13 21 16 18 22 18  2  1 14 20\n",
      " 14  2 22 21 18  2 18 22  6  4 19 20  0 17 14 14 18 14 14 23  3 21  1 19\n",
      " 18 19 24 11 14 19 10 15 19  0 19 14 17 18 13 14  0  1  7  5  0  2 14 22\n",
      "  2 15 15 11 15 23  9 12 20 18 20 19 22 14 15 22 18 18 17 15  4 20 14 13\n",
      " 14 15 14 21 20 13 14 18  2  2 18 18 14 11 20 18  3 20 20 19 16 18 14 24\n",
      " 19 14  7 18 12 18 23  6 17 14 14 14 18 15 20 18 18 22 25 24 10 15 18 18\n",
      " 18 18 14  3 20 15 12 20 10 14 21 21 19 20 24 12] [ 2 20 18 14 23 18 13 21 14  8 14 14 23 15  4 19  1 14  7  4 12 13  7 15\n",
      " 14 20 17 21  9 22 13 14 22 11 17 13 11 23 14 17 15  6 18 25 14  3 15 18\n",
      "  2  3 19 16 20 24 20 18 20  5 22 12 17 18 23 20 21 18 14 25 13 15  0 22\n",
      " 14 19 20  4 18  7 12 20  2 13 13  2  4 11  3 19 12 20  0 11 14 18 18  4\n",
      " 20 22 18 21  2 19  0  7  0  0 15 25 13 20 19 19  9  2  1  2  2  2 15 14\n",
      " 25 25 13 17 25  0 20 18 18  0 24 25 10 24  0 18  0  9 18 15 20  9  7 14\n",
      " 11 19  3  2 14 18 11 14 17 14  0 16 17 17 12 18 17  4  3  4 13 11  0 22\n",
      "  0 15 22  2 14 14 13  2 20 18  2 14 24 15  3 20 18  1 11 25 20 20  0 16\n",
      " 20 14 19 11 18 13 25 20 19 17  2 14 24 14 23 14 18  3 18 12 18 12 23  2\n",
      " 14 24 18 22 14 24 14 12 18  2 19 15 13 14  4 18 21 18 18 18 14 18 19 18\n",
      " 13  2 12  1 15 13 18 24  4  0 19  9  0 21  0  4 22 22 15 20 18 21  7  2\n",
      " 19  9 23 20 11  5 11 14 14 18 18 14 13 16 14 14  2 13 20 18 23  1 18  4\n",
      " 19  2  1 13 18 14 18 18 14  9 13  6 13  2 13 14 16  8 14 11 18 19 18 19\n",
      "  2 11  2 14  1 20 25 20 15  2  4 14 14 22  4 23 14 23  2 13 14 13 15 20\n",
      "  7  4 15 18 13  9 11 12 12 16 11 18 20 18  2 18 20 19 20 14 15 19  6  6\n",
      " 15  2 18 14  6 15 12  9 24 18 14 11 15 15 13 19 20  4 14 19 17 14 18 20\n",
      " 21 14 18  7 23  7 18 14 11 14  1 18 11  4 14 15 13 14 14 20 18 20 16 24\n",
      " 18  0 13 14 14 18  2  4 20 18  2 12 16  4  6 12 14 18 18  2 16 14 23  2\n",
      " 13 18 19 22 10 12 14 14 14  0  2  3 18 19 14 14 12 22 15 20 12 10 15 18\n",
      " 18 15  9 15 19 19 17 14 11 14 18 18 11 14  9 20 13  1 20  3 13  2 20 18\n",
      "  0 18  0 16  9 18 23 18  9 13  1 19  0 14 14 15 19 15  1 20 13  1 18 20\n",
      " 14  2 14 14 19 18 15 14 18 20 14 14 18  4 18  4 17 14 22  2 24 22 13 17\n",
      "  4  0 19 20 22 13 18  7 19 20 20  0 20  6 14 13 14 25 18 17 18 12 18  1\n",
      "  0 11 15 20 20 10  0  9  0 19 14 20 20  2  0 14 14 14  5 18 14 18  1 13\n",
      " 14 14 12  3 18  2 11 24 23 22 20 22 23 22 18 20 14 18 14 14 14 20  2 18\n",
      "  3 14 20 13 12 16  2  3  0 24 14 18  1  0 11 23 14  2 15 13 24 12 14 17\n",
      " 22 11 20 18 20  3 20 14  1  4 18 19 10 22 13 13 11 14 22  3  1 21 18 14\n",
      "  2 14 16  1 18 14 18 14 14 18  3  8 12 20 14  9 18 19 15  1 17 17  0 20\n",
      " 19  1  2 20 14  1  3 25 14 19  3 19  4 15 20 18  2  2  0 18 13 11 18 18\n",
      " 18  6  4 14 19 19 19 19 20 18  3 15 18 15 23 13 21 14 14  2 14 25 20  7\n",
      " 18 25 14 19 16 13 12 19 19 17 11  9 19 19 14 20 13  6  4 13  6 14 14 13\n",
      "  4  3 17 14 14  4  4  4 18 12 20 18 18 10 17 18 18 18 11 18 14 15 18 14\n",
      " 15 11  4 20  0  3 13 13 19 13 14  4 12 24 20 18 14  4 14 21 22 19 18 13\n",
      "  0  1  2 18 13 14 10 20 18 14 20 19 21 22 18 20  0 11 19 20 18 14 14 18\n",
      "  3 22 14 11 21  4 16  4 18 11 12  9 24 19  6 19 18  7 20 25 11 25 20 14\n",
      " 19 19 14 13 14  2 18 19 14 15 10  0 14 19 13 21 16 18 22 18  2  1 14 20\n",
      " 14  2 22 21 18  2 18 22  6  4 19 20  0 17 14 14 18 14 14 23 14 21  1 19\n",
      " 18 19 24 11 14 19 10 15 19  0 19 14 17 18 13 14  1  1  0  5 17 17 14 22\n",
      "  2 15 15 11 15 23  9 12 20 18 20 15 22 14 15 22 18 18 17 15  4 20 14 13\n",
      " 14  0 14 22 20 13 14 18  2  2 18 18 14 20 20 18  3 20 20 19 16 18  3 19\n",
      " 19 14  7 18 12 18 23  6 17 14 14 14 18 15 20 18 18 22 25 24 10 15 18 18\n",
      " 18 18 14  3 20 15 12 20 10 14 21 21 19 20 24 12]\n"
     ]
    },
    {
     "data": {
      "text/plain": [
       "0.879"
      ]
     },
     "execution_count": 12,
     "metadata": {},
     "output_type": "execute_result"
    }
   ],
   "source": [
    "dev_predictions = make_predictions(test_X, W1, B1, W2, B2)\n",
    "get_accuracy(dev_predictions, test_Y)"
   ]
  },
  {
   "cell_type": "code",
   "execution_count": null,
   "id": "41378222",
   "metadata": {
    "papermill": {
     "duration": 0.005606,
     "end_time": "2023-06-18T19:38:32.260835",
     "exception": false,
     "start_time": "2023-06-18T19:38:32.255229",
     "status": "completed"
    },
    "tags": []
   },
   "outputs": [],
   "source": []
  },
  {
   "cell_type": "markdown",
   "id": "5da0fa15",
   "metadata": {
    "papermill": {
     "duration": 0.005328,
     "end_time": "2023-06-18T19:38:32.271733",
     "exception": false,
     "start_time": "2023-06-18T19:38:32.266405",
     "status": "completed"
    },
    "tags": []
   },
   "source": [
    "About 87% accuracy on data\n",
    "Decent for a 2 layer Network (1 hidden Layer, depth of 20)"
   ]
  }
 ],
 "metadata": {
  "kernelspec": {
   "display_name": "Python 3",
   "language": "python",
   "name": "python3"
  },
  "language_info": {
   "codemirror_mode": {
    "name": "ipython",
    "version": 3
   },
   "file_extension": ".py",
   "mimetype": "text/x-python",
   "name": "python",
   "nbconvert_exporter": "python",
   "pygments_lexer": "ipython3",
   "version": "3.10.10"
  },
  "papermill": {
   "default_parameters": {},
   "duration": 1111.342092,
   "end_time": "2023-06-18T19:38:33.199752",
   "environment_variables": {},
   "exception": null,
   "input_path": "__notebook__.ipynb",
   "output_path": "__notebook__.ipynb",
   "parameters": {},
   "start_time": "2023-06-18T19:20:01.857660",
   "version": "2.4.0"
  }
 },
 "nbformat": 4,
 "nbformat_minor": 5
}
